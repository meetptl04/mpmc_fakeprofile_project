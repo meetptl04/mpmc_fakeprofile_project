{
  "cells": [
    {
      "cell_type": "markdown",
      "metadata": {
        "id": "view-in-github",
        "colab_type": "text"
      },
      "source": [
        "<a href=\"https://colab.research.google.com/github/meetptl04/mpmc_fakeprofile_project/blob/main/MPMCprojectmodels.ipynb\" target=\"_parent\"><img src=\"https://colab.research.google.com/assets/colab-badge.svg\" alt=\"Open In Colab\"/></a>"
      ]
    },
    {
      "cell_type": "markdown",
      "metadata": {
        "id": "Wz3O5M2CB9DB"
      },
      "source": [
        "#Importing libraries"
      ]
    },
    {
      "cell_type": "code",
      "execution_count": null,
      "metadata": {
        "id": "xpe7K9cORFOR"
      },
      "outputs": [],
      "source": [
        "import numpy as np\n",
        "from sklearn.model_selection import train_test_split\n",
        "from sklearn.metrics import confusion_matrix\n",
        "from sklearn.neighbors import KNeighborsClassifier\n",
        "from sklearn.ensemble import RandomForestClassifier\n",
        "from sklearn.metrics import confusion_matrix, f1_score, roc_curve, roc_auc_score, precision_score,accuracy_score"
      ]
    },
    {
      "cell_type": "markdown",
      "metadata": {
        "id": "sCO_rnQyiekY"
      },
      "source": [
        "#LOADING DATASET"
      ]
    },
    {
      "cell_type": "code",
      "execution_count": null,
      "metadata": {
        "colab": {
          "base_uri": "https://localhost:8080/"
        },
        "id": "DRLkxU4KhviU",
        "outputId": "c0b90b2a-0202-496c-a8d9-09082493a681"
      },
      "outputs": [
        {
          "output_type": "stream",
          "name": "stdout",
          "text": [
            "Mounted at /content/drive\n"
          ]
        }
      ],
      "source": [
        "from google.colab import drive\n",
        "drive.mount('/content/drive')"
      ]
    },
    {
      "cell_type": "code",
      "execution_count": null,
      "metadata": {
        "colab": {
          "base_uri": "https://localhost:8080/",
          "height": 73
        },
        "id": "PD4gRta3ibBm",
        "outputId": "383b1be9-99b2-40f7-f900-b59c2a93efae"
      },
      "outputs": [
        {
          "output_type": "display_data",
          "data": {
            "text/plain": [
              "<IPython.core.display.HTML object>"
            ],
            "text/html": [
              "\n",
              "     <input type=\"file\" id=\"files-ab6c7390-454d-43c9-abfe-16abf9601e62\" name=\"files[]\" multiple disabled\n",
              "        style=\"border:none\" />\n",
              "     <output id=\"result-ab6c7390-454d-43c9-abfe-16abf9601e62\">\n",
              "      Upload widget is only available when the cell has been executed in the\n",
              "      current browser session. Please rerun this cell to enable.\n",
              "      </output>\n",
              "      <script>// Copyright 2017 Google LLC\n",
              "//\n",
              "// Licensed under the Apache License, Version 2.0 (the \"License\");\n",
              "// you may not use this file except in compliance with the License.\n",
              "// You may obtain a copy of the License at\n",
              "//\n",
              "//      http://www.apache.org/licenses/LICENSE-2.0\n",
              "//\n",
              "// Unless required by applicable law or agreed to in writing, software\n",
              "// distributed under the License is distributed on an \"AS IS\" BASIS,\n",
              "// WITHOUT WARRANTIES OR CONDITIONS OF ANY KIND, either express or implied.\n",
              "// See the License for the specific language governing permissions and\n",
              "// limitations under the License.\n",
              "\n",
              "/**\n",
              " * @fileoverview Helpers for google.colab Python module.\n",
              " */\n",
              "(function(scope) {\n",
              "function span(text, styleAttributes = {}) {\n",
              "  const element = document.createElement('span');\n",
              "  element.textContent = text;\n",
              "  for (const key of Object.keys(styleAttributes)) {\n",
              "    element.style[key] = styleAttributes[key];\n",
              "  }\n",
              "  return element;\n",
              "}\n",
              "\n",
              "// Max number of bytes which will be uploaded at a time.\n",
              "const MAX_PAYLOAD_SIZE = 100 * 1024;\n",
              "\n",
              "function _uploadFiles(inputId, outputId) {\n",
              "  const steps = uploadFilesStep(inputId, outputId);\n",
              "  const outputElement = document.getElementById(outputId);\n",
              "  // Cache steps on the outputElement to make it available for the next call\n",
              "  // to uploadFilesContinue from Python.\n",
              "  outputElement.steps = steps;\n",
              "\n",
              "  return _uploadFilesContinue(outputId);\n",
              "}\n",
              "\n",
              "// This is roughly an async generator (not supported in the browser yet),\n",
              "// where there are multiple asynchronous steps and the Python side is going\n",
              "// to poll for completion of each step.\n",
              "// This uses a Promise to block the python side on completion of each step,\n",
              "// then passes the result of the previous step as the input to the next step.\n",
              "function _uploadFilesContinue(outputId) {\n",
              "  const outputElement = document.getElementById(outputId);\n",
              "  const steps = outputElement.steps;\n",
              "\n",
              "  const next = steps.next(outputElement.lastPromiseValue);\n",
              "  return Promise.resolve(next.value.promise).then((value) => {\n",
              "    // Cache the last promise value to make it available to the next\n",
              "    // step of the generator.\n",
              "    outputElement.lastPromiseValue = value;\n",
              "    return next.value.response;\n",
              "  });\n",
              "}\n",
              "\n",
              "/**\n",
              " * Generator function which is called between each async step of the upload\n",
              " * process.\n",
              " * @param {string} inputId Element ID of the input file picker element.\n",
              " * @param {string} outputId Element ID of the output display.\n",
              " * @return {!Iterable<!Object>} Iterable of next steps.\n",
              " */\n",
              "function* uploadFilesStep(inputId, outputId) {\n",
              "  const inputElement = document.getElementById(inputId);\n",
              "  inputElement.disabled = false;\n",
              "\n",
              "  const outputElement = document.getElementById(outputId);\n",
              "  outputElement.innerHTML = '';\n",
              "\n",
              "  const pickedPromise = new Promise((resolve) => {\n",
              "    inputElement.addEventListener('change', (e) => {\n",
              "      resolve(e.target.files);\n",
              "    });\n",
              "  });\n",
              "\n",
              "  const cancel = document.createElement('button');\n",
              "  inputElement.parentElement.appendChild(cancel);\n",
              "  cancel.textContent = 'Cancel upload';\n",
              "  const cancelPromise = new Promise((resolve) => {\n",
              "    cancel.onclick = () => {\n",
              "      resolve(null);\n",
              "    };\n",
              "  });\n",
              "\n",
              "  // Wait for the user to pick the files.\n",
              "  const files = yield {\n",
              "    promise: Promise.race([pickedPromise, cancelPromise]),\n",
              "    response: {\n",
              "      action: 'starting',\n",
              "    }\n",
              "  };\n",
              "\n",
              "  cancel.remove();\n",
              "\n",
              "  // Disable the input element since further picks are not allowed.\n",
              "  inputElement.disabled = true;\n",
              "\n",
              "  if (!files) {\n",
              "    return {\n",
              "      response: {\n",
              "        action: 'complete',\n",
              "      }\n",
              "    };\n",
              "  }\n",
              "\n",
              "  for (const file of files) {\n",
              "    const li = document.createElement('li');\n",
              "    li.append(span(file.name, {fontWeight: 'bold'}));\n",
              "    li.append(span(\n",
              "        `(${file.type || 'n/a'}) - ${file.size} bytes, ` +\n",
              "        `last modified: ${\n",
              "            file.lastModifiedDate ? file.lastModifiedDate.toLocaleDateString() :\n",
              "                                    'n/a'} - `));\n",
              "    const percent = span('0% done');\n",
              "    li.appendChild(percent);\n",
              "\n",
              "    outputElement.appendChild(li);\n",
              "\n",
              "    const fileDataPromise = new Promise((resolve) => {\n",
              "      const reader = new FileReader();\n",
              "      reader.onload = (e) => {\n",
              "        resolve(e.target.result);\n",
              "      };\n",
              "      reader.readAsArrayBuffer(file);\n",
              "    });\n",
              "    // Wait for the data to be ready.\n",
              "    let fileData = yield {\n",
              "      promise: fileDataPromise,\n",
              "      response: {\n",
              "        action: 'continue',\n",
              "      }\n",
              "    };\n",
              "\n",
              "    // Use a chunked sending to avoid message size limits. See b/62115660.\n",
              "    let position = 0;\n",
              "    do {\n",
              "      const length = Math.min(fileData.byteLength - position, MAX_PAYLOAD_SIZE);\n",
              "      const chunk = new Uint8Array(fileData, position, length);\n",
              "      position += length;\n",
              "\n",
              "      const base64 = btoa(String.fromCharCode.apply(null, chunk));\n",
              "      yield {\n",
              "        response: {\n",
              "          action: 'append',\n",
              "          file: file.name,\n",
              "          data: base64,\n",
              "        },\n",
              "      };\n",
              "\n",
              "      let percentDone = fileData.byteLength === 0 ?\n",
              "          100 :\n",
              "          Math.round((position / fileData.byteLength) * 100);\n",
              "      percent.textContent = `${percentDone}% done`;\n",
              "\n",
              "    } while (position < fileData.byteLength);\n",
              "  }\n",
              "\n",
              "  // All done.\n",
              "  yield {\n",
              "    response: {\n",
              "      action: 'complete',\n",
              "    }\n",
              "  };\n",
              "}\n",
              "\n",
              "scope.google = scope.google || {};\n",
              "scope.google.colab = scope.google.colab || {};\n",
              "scope.google.colab._files = {\n",
              "  _uploadFiles,\n",
              "  _uploadFilesContinue,\n",
              "};\n",
              "})(self);\n",
              "</script> "
            ]
          },
          "metadata": {}
        },
        {
          "output_type": "stream",
          "name": "stdout",
          "text": [
            "Saving user_fake_authentic_4class.csv to user_fake_authentic_4class.csv\n"
          ]
        }
      ],
      "source": [
        "import pandas as pd\n",
        "import io\n",
        "from google.colab import files\n",
        "\n",
        "uploaded = files.upload()\n"
      ]
    },
    {
      "cell_type": "code",
      "execution_count": null,
      "metadata": {
        "colab": {
          "base_uri": "https://localhost:8080/"
        },
        "id": "SUihkjqMOYq5",
        "outputId": "8e29b187-6845-4340-e90e-d33f62f1f410"
      },
      "outputs": [
        {
          "output_type": "stream",
          "name": "stdout",
          "text": [
            "   pos   flw   flg   bl  pic  lin   cl        cz     ni        erl   erc  \\\n",
            "0   69   541   440  293    1    0  223  0.000000  0.111  10.120000  0.50   \n",
            "1    9   783   803   76    1    0  101  0.000000  0.000  19.820000  1.99   \n",
            "2  390  1200   925  103    1    0  723  0.000000  0.000  11.540000  0.76   \n",
            "3  138  1100  1000   40    1    0   24  0.166667  0.167  20.440001  1.61   \n",
            "4    1   228   487   84    1    0   30  0.000000  0.000   9.210000  1.75   \n",
            "\n",
            "      lt     hc   pr   fo        cs           pi class  \n",
            "0  0.944  0.556  0.0  0.0  0.107055   334.596802     r  \n",
            "1  0.889  0.222  0.0  0.0  0.007400  2137.979248     r  \n",
            "2  1.000  2.389  0.0  0.0  0.221954    96.244957     r  \n",
            "3  0.833  0.111  0.0  0.0  0.025055   226.622437     r  \n",
            "4  1.000  0.000  0.0  0.0  0.000000     0.000000     r  \n"
          ]
        }
      ],
      "source": [
        "df2 = pd.read_csv(\"user_fake_authentic_4class.csv\")\n",
        "print(df2.head())"
      ]
    },
    {
      "cell_type": "code",
      "execution_count": null,
      "metadata": {
        "colab": {
          "base_uri": "https://localhost:8080/",
          "height": 73
        },
        "id": "-Srb303xNSVb",
        "outputId": "91352d29-d990-42b3-b6c7-48d8b7d903ab"
      },
      "outputs": [
        {
          "output_type": "display_data",
          "data": {
            "text/plain": [
              "<IPython.core.display.HTML object>"
            ],
            "text/html": [
              "\n",
              "     <input type=\"file\" id=\"files-306ee47f-e8bf-48af-9fdc-dbac9517c23b\" name=\"files[]\" multiple disabled\n",
              "        style=\"border:none\" />\n",
              "     <output id=\"result-306ee47f-e8bf-48af-9fdc-dbac9517c23b\">\n",
              "      Upload widget is only available when the cell has been executed in the\n",
              "      current browser session. Please rerun this cell to enable.\n",
              "      </output>\n",
              "      <script>// Copyright 2017 Google LLC\n",
              "//\n",
              "// Licensed under the Apache License, Version 2.0 (the \"License\");\n",
              "// you may not use this file except in compliance with the License.\n",
              "// You may obtain a copy of the License at\n",
              "//\n",
              "//      http://www.apache.org/licenses/LICENSE-2.0\n",
              "//\n",
              "// Unless required by applicable law or agreed to in writing, software\n",
              "// distributed under the License is distributed on an \"AS IS\" BASIS,\n",
              "// WITHOUT WARRANTIES OR CONDITIONS OF ANY KIND, either express or implied.\n",
              "// See the License for the specific language governing permissions and\n",
              "// limitations under the License.\n",
              "\n",
              "/**\n",
              " * @fileoverview Helpers for google.colab Python module.\n",
              " */\n",
              "(function(scope) {\n",
              "function span(text, styleAttributes = {}) {\n",
              "  const element = document.createElement('span');\n",
              "  element.textContent = text;\n",
              "  for (const key of Object.keys(styleAttributes)) {\n",
              "    element.style[key] = styleAttributes[key];\n",
              "  }\n",
              "  return element;\n",
              "}\n",
              "\n",
              "// Max number of bytes which will be uploaded at a time.\n",
              "const MAX_PAYLOAD_SIZE = 100 * 1024;\n",
              "\n",
              "function _uploadFiles(inputId, outputId) {\n",
              "  const steps = uploadFilesStep(inputId, outputId);\n",
              "  const outputElement = document.getElementById(outputId);\n",
              "  // Cache steps on the outputElement to make it available for the next call\n",
              "  // to uploadFilesContinue from Python.\n",
              "  outputElement.steps = steps;\n",
              "\n",
              "  return _uploadFilesContinue(outputId);\n",
              "}\n",
              "\n",
              "// This is roughly an async generator (not supported in the browser yet),\n",
              "// where there are multiple asynchronous steps and the Python side is going\n",
              "// to poll for completion of each step.\n",
              "// This uses a Promise to block the python side on completion of each step,\n",
              "// then passes the result of the previous step as the input to the next step.\n",
              "function _uploadFilesContinue(outputId) {\n",
              "  const outputElement = document.getElementById(outputId);\n",
              "  const steps = outputElement.steps;\n",
              "\n",
              "  const next = steps.next(outputElement.lastPromiseValue);\n",
              "  return Promise.resolve(next.value.promise).then((value) => {\n",
              "    // Cache the last promise value to make it available to the next\n",
              "    // step of the generator.\n",
              "    outputElement.lastPromiseValue = value;\n",
              "    return next.value.response;\n",
              "  });\n",
              "}\n",
              "\n",
              "/**\n",
              " * Generator function which is called between each async step of the upload\n",
              " * process.\n",
              " * @param {string} inputId Element ID of the input file picker element.\n",
              " * @param {string} outputId Element ID of the output display.\n",
              " * @return {!Iterable<!Object>} Iterable of next steps.\n",
              " */\n",
              "function* uploadFilesStep(inputId, outputId) {\n",
              "  const inputElement = document.getElementById(inputId);\n",
              "  inputElement.disabled = false;\n",
              "\n",
              "  const outputElement = document.getElementById(outputId);\n",
              "  outputElement.innerHTML = '';\n",
              "\n",
              "  const pickedPromise = new Promise((resolve) => {\n",
              "    inputElement.addEventListener('change', (e) => {\n",
              "      resolve(e.target.files);\n",
              "    });\n",
              "  });\n",
              "\n",
              "  const cancel = document.createElement('button');\n",
              "  inputElement.parentElement.appendChild(cancel);\n",
              "  cancel.textContent = 'Cancel upload';\n",
              "  const cancelPromise = new Promise((resolve) => {\n",
              "    cancel.onclick = () => {\n",
              "      resolve(null);\n",
              "    };\n",
              "  });\n",
              "\n",
              "  // Wait for the user to pick the files.\n",
              "  const files = yield {\n",
              "    promise: Promise.race([pickedPromise, cancelPromise]),\n",
              "    response: {\n",
              "      action: 'starting',\n",
              "    }\n",
              "  };\n",
              "\n",
              "  cancel.remove();\n",
              "\n",
              "  // Disable the input element since further picks are not allowed.\n",
              "  inputElement.disabled = true;\n",
              "\n",
              "  if (!files) {\n",
              "    return {\n",
              "      response: {\n",
              "        action: 'complete',\n",
              "      }\n",
              "    };\n",
              "  }\n",
              "\n",
              "  for (const file of files) {\n",
              "    const li = document.createElement('li');\n",
              "    li.append(span(file.name, {fontWeight: 'bold'}));\n",
              "    li.append(span(\n",
              "        `(${file.type || 'n/a'}) - ${file.size} bytes, ` +\n",
              "        `last modified: ${\n",
              "            file.lastModifiedDate ? file.lastModifiedDate.toLocaleDateString() :\n",
              "                                    'n/a'} - `));\n",
              "    const percent = span('0% done');\n",
              "    li.appendChild(percent);\n",
              "\n",
              "    outputElement.appendChild(li);\n",
              "\n",
              "    const fileDataPromise = new Promise((resolve) => {\n",
              "      const reader = new FileReader();\n",
              "      reader.onload = (e) => {\n",
              "        resolve(e.target.result);\n",
              "      };\n",
              "      reader.readAsArrayBuffer(file);\n",
              "    });\n",
              "    // Wait for the data to be ready.\n",
              "    let fileData = yield {\n",
              "      promise: fileDataPromise,\n",
              "      response: {\n",
              "        action: 'continue',\n",
              "      }\n",
              "    };\n",
              "\n",
              "    // Use a chunked sending to avoid message size limits. See b/62115660.\n",
              "    let position = 0;\n",
              "    do {\n",
              "      const length = Math.min(fileData.byteLength - position, MAX_PAYLOAD_SIZE);\n",
              "      const chunk = new Uint8Array(fileData, position, length);\n",
              "      position += length;\n",
              "\n",
              "      const base64 = btoa(String.fromCharCode.apply(null, chunk));\n",
              "      yield {\n",
              "        response: {\n",
              "          action: 'append',\n",
              "          file: file.name,\n",
              "          data: base64,\n",
              "        },\n",
              "      };\n",
              "\n",
              "      let percentDone = fileData.byteLength === 0 ?\n",
              "          100 :\n",
              "          Math.round((position / fileData.byteLength) * 100);\n",
              "      percent.textContent = `${percentDone}% done`;\n",
              "\n",
              "    } while (position < fileData.byteLength);\n",
              "  }\n",
              "\n",
              "  // All done.\n",
              "  yield {\n",
              "    response: {\n",
              "      action: 'complete',\n",
              "    }\n",
              "  };\n",
              "}\n",
              "\n",
              "scope.google = scope.google || {};\n",
              "scope.google.colab = scope.google.colab || {};\n",
              "scope.google.colab._files = {\n",
              "  _uploadFiles,\n",
              "  _uploadFilesContinue,\n",
              "};\n",
              "})(self);\n",
              "</script> "
            ]
          },
          "metadata": {}
        },
        {
          "output_type": "stream",
          "name": "stdout",
          "text": [
            "Saving user_fake_authentic_2class.csv to user_fake_authentic_2class.csv\n"
          ]
        }
      ],
      "source": [
        "import pandas as pd\n",
        "import io\n",
        "from google.colab import files\n",
        "\n",
        "uploaded = files.upload()"
      ]
    },
    {
      "cell_type": "code",
      "execution_count": null,
      "metadata": {
        "id": "c0GrpHc5Om5W",
        "colab": {
          "base_uri": "https://localhost:8080/"
        },
        "outputId": "a60d8833-9307-45c4-f266-7577985db9f6"
      },
      "outputs": [
        {
          "output_type": "stream",
          "name": "stdout",
          "text": [
            "   pos  flw  flg   bl  pic  lin   cl   cz   ni    erl   erc     lt   hc   pr  \\\n",
            "0   44   48  325   33    1    0   12  0.0  0.0   0.00  0.00  0.000  0.0  0.0   \n",
            "1   10   66  321  150    1    0  213  0.0  1.0  14.39  1.97  0.000  1.5  0.0   \n",
            "2   33  970  308  101    1    1  436  0.0  1.0  10.10  0.30  0.000  2.5  0.0   \n",
            "3   70   86  360   14    1    0    0  1.0  0.0   0.78  0.06  0.000  0.0  0.0   \n",
            "4    3   21  285   73    1    0   93  0.0  0.0  14.29  0.00  0.667  0.0  0.0   \n",
            "\n",
            "      fo        cs          pi class  \n",
            "0  0.000  0.111111    0.094985     f  \n",
            "1  0.000  0.206826  230.412857     f  \n",
            "2  0.056  0.572174   43.569939     f  \n",
            "3  0.000  1.000000    5.859799     f  \n",
            "4  0.000  0.300494    0.126019     f  \n"
          ]
        }
      ],
      "source": [
        "df1= pd.read_csv(\"user_fake_authentic_2class.csv\")\n",
        "print(df1.head())"
      ]
    },
    {
      "cell_type": "code",
      "execution_count": null,
      "metadata": {
        "id": "KpidlHR_PMXG",
        "colab": {
          "base_uri": "https://localhost:8080/"
        },
        "outputId": "07239888-aab6-44c3-e060-12ca7781b72e"
      },
      "outputs": [
        {
          "output_type": "execute_result",
          "data": {
            "text/plain": [
              "43307"
            ]
          },
          "metadata": {},
          "execution_count": 8
        }
      ],
      "source": [
        "df2.shape[0]"
      ]
    },
    {
      "cell_type": "code",
      "execution_count": null,
      "metadata": {
        "id": "fnqu3yifPZDh",
        "colab": {
          "base_uri": "https://localhost:8080/"
        },
        "outputId": "1fafd473-e297-4280-8eff-7048d4df031b"
      },
      "outputs": [
        {
          "output_type": "execute_result",
          "data": {
            "text/plain": [
              "65326"
            ]
          },
          "metadata": {},
          "execution_count": 9
        }
      ],
      "source": [
        "df1.shape[0]"
      ]
    },
    {
      "cell_type": "markdown",
      "metadata": {
        "id": "XKomhNg5ycKl"
      },
      "source": [
        "#Relational Analysis"
      ]
    },
    {
      "cell_type": "code",
      "execution_count": null,
      "metadata": {
        "id": "ImlvGnU9Pbh3",
        "colab": {
          "base_uri": "https://localhost:8080/",
          "height": 602
        },
        "outputId": "853439c2-4224-4dbb-8280-f5163271fb1d"
      },
      "outputs": [
        {
          "output_type": "execute_result",
          "data": {
            "text/plain": [
              "          pos       flw       flg        bl       pic       lin        cl  \\\n",
              "pos  1.000000  0.135049  0.061212  0.160135  0.051938  0.169530  0.184861   \n",
              "flw  0.135049  1.000000  0.007297  0.040520  0.010087  0.051048  0.033444   \n",
              "flg  0.061212  0.007297  1.000000  0.009365 -0.129441 -0.033437 -0.063118   \n",
              "bl   0.160135  0.040520  0.009365  1.000000  0.166268  0.471750  0.350113   \n",
              "pic  0.051938  0.010087 -0.129441  0.166268  1.000000  0.124227  0.119568   \n",
              "lin  0.169530  0.051048 -0.033437  0.471750  0.124227  1.000000  0.300796   \n",
              "cl   0.184861  0.033444 -0.063118  0.350113  0.119568  0.300796  1.000000   \n",
              "cz  -0.079381 -0.022630  0.166987 -0.272344  0.062627 -0.239548 -0.353722   \n",
              "ni   0.077786  0.025235 -0.077394  0.141115  0.127787  0.134877  0.109310   \n",
              "erl -0.030385 -0.006179  0.023733 -0.039509 -0.019804 -0.045439 -0.039938   \n",
              "erc -0.038688 -0.008265 -0.024267 -0.060438 -0.021231 -0.067379 -0.050617   \n",
              "lt   0.029853  0.012076 -0.115437  0.218246  0.127461  0.196867  0.084010   \n",
              "hc   0.014968  0.005407 -0.042087  0.160880  0.062906  0.093820  0.185383   \n",
              "pr   0.020762 -0.001551 -0.046642 -0.027192  0.022608 -0.039453  0.207818   \n",
              "fo  -0.010636 -0.001494  0.022982  0.017702  0.001248 -0.009535  0.055534   \n",
              "cs  -0.015924 -0.012064  0.229080 -0.135914 -0.264526 -0.096147 -0.089811   \n",
              "pi  -0.085687 -0.013127 -0.084763 -0.111549  0.084405 -0.096717 -0.112708   \n",
              "\n",
              "           cz        ni       erl       erc        lt        hc        pr  \\\n",
              "pos -0.079381  0.077786 -0.030385 -0.038688  0.029853  0.014968  0.020762   \n",
              "flw -0.022630  0.025235 -0.006179 -0.008265  0.012076  0.005407 -0.001551   \n",
              "flg  0.166987 -0.077394  0.023733 -0.024267 -0.115437 -0.042087 -0.046642   \n",
              "bl  -0.272344  0.141115 -0.039509 -0.060438  0.218246  0.160880 -0.027192   \n",
              "pic  0.062627  0.127787 -0.019804 -0.021231  0.127461  0.062906  0.022608   \n",
              "lin -0.239548  0.134877 -0.045439 -0.067379  0.196867  0.093820 -0.039453   \n",
              "cl  -0.353722  0.109310 -0.039938 -0.050617  0.084010  0.185383  0.207818   \n",
              "cz   1.000000 -0.125527  0.078084  0.085500 -0.205243 -0.218162 -0.060874   \n",
              "ni  -0.125527  1.000000 -0.024201 -0.033442  0.219128  0.048066 -0.023015   \n",
              "erl  0.078084 -0.024201  1.000000  0.443567 -0.014675  0.023996 -0.004538   \n",
              "erc  0.085500 -0.033442  0.443567  1.000000 -0.016297  0.030942  0.015480   \n",
              "lt  -0.205243  0.219128 -0.014675 -0.016297  1.000000  0.129435 -0.062454   \n",
              "hc  -0.218162  0.048066  0.023996  0.030942  0.129435  1.000000  0.119583   \n",
              "pr  -0.060874 -0.023015 -0.004538  0.015480 -0.062454  0.119583  1.000000   \n",
              "fo  -0.045788 -0.007850  0.034061  0.031312  0.000864  0.336990  0.080195   \n",
              "cs   0.320240 -0.240686 -0.031888 -0.065978 -0.272632 -0.149187 -0.053694   \n",
              "pi   0.063316  0.000521  0.000753  0.015197  0.067549  0.014938 -0.018384   \n",
              "\n",
              "           fo        cs        pi  \n",
              "pos -0.010636 -0.015924 -0.085687  \n",
              "flw -0.001494 -0.012064 -0.013127  \n",
              "flg  0.022982  0.229080 -0.084763  \n",
              "bl   0.017702 -0.135914 -0.111549  \n",
              "pic  0.001248 -0.264526  0.084405  \n",
              "lin -0.009535 -0.096147 -0.096717  \n",
              "cl   0.055534 -0.089811 -0.112708  \n",
              "cz  -0.045788  0.320240  0.063316  \n",
              "ni  -0.007850 -0.240686  0.000521  \n",
              "erl  0.034061 -0.031888  0.000753  \n",
              "erc  0.031312 -0.065978  0.015197  \n",
              "lt   0.000864 -0.272632  0.067549  \n",
              "hc   0.336990 -0.149187  0.014938  \n",
              "pr   0.080195 -0.053694 -0.018384  \n",
              "fo   1.000000 -0.021608 -0.012204  \n",
              "cs  -0.021608  1.000000 -0.143805  \n",
              "pi  -0.012204 -0.143805  1.000000  "
            ],
            "text/html": [
              "\n",
              "  <div id=\"df-79bfcc91-fae1-4bc8-bfd0-64eb6153558f\" class=\"colab-df-container\">\n",
              "    <div>\n",
              "<style scoped>\n",
              "    .dataframe tbody tr th:only-of-type {\n",
              "        vertical-align: middle;\n",
              "    }\n",
              "\n",
              "    .dataframe tbody tr th {\n",
              "        vertical-align: top;\n",
              "    }\n",
              "\n",
              "    .dataframe thead th {\n",
              "        text-align: right;\n",
              "    }\n",
              "</style>\n",
              "<table border=\"1\" class=\"dataframe\">\n",
              "  <thead>\n",
              "    <tr style=\"text-align: right;\">\n",
              "      <th></th>\n",
              "      <th>pos</th>\n",
              "      <th>flw</th>\n",
              "      <th>flg</th>\n",
              "      <th>bl</th>\n",
              "      <th>pic</th>\n",
              "      <th>lin</th>\n",
              "      <th>cl</th>\n",
              "      <th>cz</th>\n",
              "      <th>ni</th>\n",
              "      <th>erl</th>\n",
              "      <th>erc</th>\n",
              "      <th>lt</th>\n",
              "      <th>hc</th>\n",
              "      <th>pr</th>\n",
              "      <th>fo</th>\n",
              "      <th>cs</th>\n",
              "      <th>pi</th>\n",
              "    </tr>\n",
              "  </thead>\n",
              "  <tbody>\n",
              "    <tr>\n",
              "      <th>pos</th>\n",
              "      <td>1.000000</td>\n",
              "      <td>0.135049</td>\n",
              "      <td>0.061212</td>\n",
              "      <td>0.160135</td>\n",
              "      <td>0.051938</td>\n",
              "      <td>0.169530</td>\n",
              "      <td>0.184861</td>\n",
              "      <td>-0.079381</td>\n",
              "      <td>0.077786</td>\n",
              "      <td>-0.030385</td>\n",
              "      <td>-0.038688</td>\n",
              "      <td>0.029853</td>\n",
              "      <td>0.014968</td>\n",
              "      <td>0.020762</td>\n",
              "      <td>-0.010636</td>\n",
              "      <td>-0.015924</td>\n",
              "      <td>-0.085687</td>\n",
              "    </tr>\n",
              "    <tr>\n",
              "      <th>flw</th>\n",
              "      <td>0.135049</td>\n",
              "      <td>1.000000</td>\n",
              "      <td>0.007297</td>\n",
              "      <td>0.040520</td>\n",
              "      <td>0.010087</td>\n",
              "      <td>0.051048</td>\n",
              "      <td>0.033444</td>\n",
              "      <td>-0.022630</td>\n",
              "      <td>0.025235</td>\n",
              "      <td>-0.006179</td>\n",
              "      <td>-0.008265</td>\n",
              "      <td>0.012076</td>\n",
              "      <td>0.005407</td>\n",
              "      <td>-0.001551</td>\n",
              "      <td>-0.001494</td>\n",
              "      <td>-0.012064</td>\n",
              "      <td>-0.013127</td>\n",
              "    </tr>\n",
              "    <tr>\n",
              "      <th>flg</th>\n",
              "      <td>0.061212</td>\n",
              "      <td>0.007297</td>\n",
              "      <td>1.000000</td>\n",
              "      <td>0.009365</td>\n",
              "      <td>-0.129441</td>\n",
              "      <td>-0.033437</td>\n",
              "      <td>-0.063118</td>\n",
              "      <td>0.166987</td>\n",
              "      <td>-0.077394</td>\n",
              "      <td>0.023733</td>\n",
              "      <td>-0.024267</td>\n",
              "      <td>-0.115437</td>\n",
              "      <td>-0.042087</td>\n",
              "      <td>-0.046642</td>\n",
              "      <td>0.022982</td>\n",
              "      <td>0.229080</td>\n",
              "      <td>-0.084763</td>\n",
              "    </tr>\n",
              "    <tr>\n",
              "      <th>bl</th>\n",
              "      <td>0.160135</td>\n",
              "      <td>0.040520</td>\n",
              "      <td>0.009365</td>\n",
              "      <td>1.000000</td>\n",
              "      <td>0.166268</td>\n",
              "      <td>0.471750</td>\n",
              "      <td>0.350113</td>\n",
              "      <td>-0.272344</td>\n",
              "      <td>0.141115</td>\n",
              "      <td>-0.039509</td>\n",
              "      <td>-0.060438</td>\n",
              "      <td>0.218246</td>\n",
              "      <td>0.160880</td>\n",
              "      <td>-0.027192</td>\n",
              "      <td>0.017702</td>\n",
              "      <td>-0.135914</td>\n",
              "      <td>-0.111549</td>\n",
              "    </tr>\n",
              "    <tr>\n",
              "      <th>pic</th>\n",
              "      <td>0.051938</td>\n",
              "      <td>0.010087</td>\n",
              "      <td>-0.129441</td>\n",
              "      <td>0.166268</td>\n",
              "      <td>1.000000</td>\n",
              "      <td>0.124227</td>\n",
              "      <td>0.119568</td>\n",
              "      <td>0.062627</td>\n",
              "      <td>0.127787</td>\n",
              "      <td>-0.019804</td>\n",
              "      <td>-0.021231</td>\n",
              "      <td>0.127461</td>\n",
              "      <td>0.062906</td>\n",
              "      <td>0.022608</td>\n",
              "      <td>0.001248</td>\n",
              "      <td>-0.264526</td>\n",
              "      <td>0.084405</td>\n",
              "    </tr>\n",
              "    <tr>\n",
              "      <th>lin</th>\n",
              "      <td>0.169530</td>\n",
              "      <td>0.051048</td>\n",
              "      <td>-0.033437</td>\n",
              "      <td>0.471750</td>\n",
              "      <td>0.124227</td>\n",
              "      <td>1.000000</td>\n",
              "      <td>0.300796</td>\n",
              "      <td>-0.239548</td>\n",
              "      <td>0.134877</td>\n",
              "      <td>-0.045439</td>\n",
              "      <td>-0.067379</td>\n",
              "      <td>0.196867</td>\n",
              "      <td>0.093820</td>\n",
              "      <td>-0.039453</td>\n",
              "      <td>-0.009535</td>\n",
              "      <td>-0.096147</td>\n",
              "      <td>-0.096717</td>\n",
              "    </tr>\n",
              "    <tr>\n",
              "      <th>cl</th>\n",
              "      <td>0.184861</td>\n",
              "      <td>0.033444</td>\n",
              "      <td>-0.063118</td>\n",
              "      <td>0.350113</td>\n",
              "      <td>0.119568</td>\n",
              "      <td>0.300796</td>\n",
              "      <td>1.000000</td>\n",
              "      <td>-0.353722</td>\n",
              "      <td>0.109310</td>\n",
              "      <td>-0.039938</td>\n",
              "      <td>-0.050617</td>\n",
              "      <td>0.084010</td>\n",
              "      <td>0.185383</td>\n",
              "      <td>0.207818</td>\n",
              "      <td>0.055534</td>\n",
              "      <td>-0.089811</td>\n",
              "      <td>-0.112708</td>\n",
              "    </tr>\n",
              "    <tr>\n",
              "      <th>cz</th>\n",
              "      <td>-0.079381</td>\n",
              "      <td>-0.022630</td>\n",
              "      <td>0.166987</td>\n",
              "      <td>-0.272344</td>\n",
              "      <td>0.062627</td>\n",
              "      <td>-0.239548</td>\n",
              "      <td>-0.353722</td>\n",
              "      <td>1.000000</td>\n",
              "      <td>-0.125527</td>\n",
              "      <td>0.078084</td>\n",
              "      <td>0.085500</td>\n",
              "      <td>-0.205243</td>\n",
              "      <td>-0.218162</td>\n",
              "      <td>-0.060874</td>\n",
              "      <td>-0.045788</td>\n",
              "      <td>0.320240</td>\n",
              "      <td>0.063316</td>\n",
              "    </tr>\n",
              "    <tr>\n",
              "      <th>ni</th>\n",
              "      <td>0.077786</td>\n",
              "      <td>0.025235</td>\n",
              "      <td>-0.077394</td>\n",
              "      <td>0.141115</td>\n",
              "      <td>0.127787</td>\n",
              "      <td>0.134877</td>\n",
              "      <td>0.109310</td>\n",
              "      <td>-0.125527</td>\n",
              "      <td>1.000000</td>\n",
              "      <td>-0.024201</td>\n",
              "      <td>-0.033442</td>\n",
              "      <td>0.219128</td>\n",
              "      <td>0.048066</td>\n",
              "      <td>-0.023015</td>\n",
              "      <td>-0.007850</td>\n",
              "      <td>-0.240686</td>\n",
              "      <td>0.000521</td>\n",
              "    </tr>\n",
              "    <tr>\n",
              "      <th>erl</th>\n",
              "      <td>-0.030385</td>\n",
              "      <td>-0.006179</td>\n",
              "      <td>0.023733</td>\n",
              "      <td>-0.039509</td>\n",
              "      <td>-0.019804</td>\n",
              "      <td>-0.045439</td>\n",
              "      <td>-0.039938</td>\n",
              "      <td>0.078084</td>\n",
              "      <td>-0.024201</td>\n",
              "      <td>1.000000</td>\n",
              "      <td>0.443567</td>\n",
              "      <td>-0.014675</td>\n",
              "      <td>0.023996</td>\n",
              "      <td>-0.004538</td>\n",
              "      <td>0.034061</td>\n",
              "      <td>-0.031888</td>\n",
              "      <td>0.000753</td>\n",
              "    </tr>\n",
              "    <tr>\n",
              "      <th>erc</th>\n",
              "      <td>-0.038688</td>\n",
              "      <td>-0.008265</td>\n",
              "      <td>-0.024267</td>\n",
              "      <td>-0.060438</td>\n",
              "      <td>-0.021231</td>\n",
              "      <td>-0.067379</td>\n",
              "      <td>-0.050617</td>\n",
              "      <td>0.085500</td>\n",
              "      <td>-0.033442</td>\n",
              "      <td>0.443567</td>\n",
              "      <td>1.000000</td>\n",
              "      <td>-0.016297</td>\n",
              "      <td>0.030942</td>\n",
              "      <td>0.015480</td>\n",
              "      <td>0.031312</td>\n",
              "      <td>-0.065978</td>\n",
              "      <td>0.015197</td>\n",
              "    </tr>\n",
              "    <tr>\n",
              "      <th>lt</th>\n",
              "      <td>0.029853</td>\n",
              "      <td>0.012076</td>\n",
              "      <td>-0.115437</td>\n",
              "      <td>0.218246</td>\n",
              "      <td>0.127461</td>\n",
              "      <td>0.196867</td>\n",
              "      <td>0.084010</td>\n",
              "      <td>-0.205243</td>\n",
              "      <td>0.219128</td>\n",
              "      <td>-0.014675</td>\n",
              "      <td>-0.016297</td>\n",
              "      <td>1.000000</td>\n",
              "      <td>0.129435</td>\n",
              "      <td>-0.062454</td>\n",
              "      <td>0.000864</td>\n",
              "      <td>-0.272632</td>\n",
              "      <td>0.067549</td>\n",
              "    </tr>\n",
              "    <tr>\n",
              "      <th>hc</th>\n",
              "      <td>0.014968</td>\n",
              "      <td>0.005407</td>\n",
              "      <td>-0.042087</td>\n",
              "      <td>0.160880</td>\n",
              "      <td>0.062906</td>\n",
              "      <td>0.093820</td>\n",
              "      <td>0.185383</td>\n",
              "      <td>-0.218162</td>\n",
              "      <td>0.048066</td>\n",
              "      <td>0.023996</td>\n",
              "      <td>0.030942</td>\n",
              "      <td>0.129435</td>\n",
              "      <td>1.000000</td>\n",
              "      <td>0.119583</td>\n",
              "      <td>0.336990</td>\n",
              "      <td>-0.149187</td>\n",
              "      <td>0.014938</td>\n",
              "    </tr>\n",
              "    <tr>\n",
              "      <th>pr</th>\n",
              "      <td>0.020762</td>\n",
              "      <td>-0.001551</td>\n",
              "      <td>-0.046642</td>\n",
              "      <td>-0.027192</td>\n",
              "      <td>0.022608</td>\n",
              "      <td>-0.039453</td>\n",
              "      <td>0.207818</td>\n",
              "      <td>-0.060874</td>\n",
              "      <td>-0.023015</td>\n",
              "      <td>-0.004538</td>\n",
              "      <td>0.015480</td>\n",
              "      <td>-0.062454</td>\n",
              "      <td>0.119583</td>\n",
              "      <td>1.000000</td>\n",
              "      <td>0.080195</td>\n",
              "      <td>-0.053694</td>\n",
              "      <td>-0.018384</td>\n",
              "    </tr>\n",
              "    <tr>\n",
              "      <th>fo</th>\n",
              "      <td>-0.010636</td>\n",
              "      <td>-0.001494</td>\n",
              "      <td>0.022982</td>\n",
              "      <td>0.017702</td>\n",
              "      <td>0.001248</td>\n",
              "      <td>-0.009535</td>\n",
              "      <td>0.055534</td>\n",
              "      <td>-0.045788</td>\n",
              "      <td>-0.007850</td>\n",
              "      <td>0.034061</td>\n",
              "      <td>0.031312</td>\n",
              "      <td>0.000864</td>\n",
              "      <td>0.336990</td>\n",
              "      <td>0.080195</td>\n",
              "      <td>1.000000</td>\n",
              "      <td>-0.021608</td>\n",
              "      <td>-0.012204</td>\n",
              "    </tr>\n",
              "    <tr>\n",
              "      <th>cs</th>\n",
              "      <td>-0.015924</td>\n",
              "      <td>-0.012064</td>\n",
              "      <td>0.229080</td>\n",
              "      <td>-0.135914</td>\n",
              "      <td>-0.264526</td>\n",
              "      <td>-0.096147</td>\n",
              "      <td>-0.089811</td>\n",
              "      <td>0.320240</td>\n",
              "      <td>-0.240686</td>\n",
              "      <td>-0.031888</td>\n",
              "      <td>-0.065978</td>\n",
              "      <td>-0.272632</td>\n",
              "      <td>-0.149187</td>\n",
              "      <td>-0.053694</td>\n",
              "      <td>-0.021608</td>\n",
              "      <td>1.000000</td>\n",
              "      <td>-0.143805</td>\n",
              "    </tr>\n",
              "    <tr>\n",
              "      <th>pi</th>\n",
              "      <td>-0.085687</td>\n",
              "      <td>-0.013127</td>\n",
              "      <td>-0.084763</td>\n",
              "      <td>-0.111549</td>\n",
              "      <td>0.084405</td>\n",
              "      <td>-0.096717</td>\n",
              "      <td>-0.112708</td>\n",
              "      <td>0.063316</td>\n",
              "      <td>0.000521</td>\n",
              "      <td>0.000753</td>\n",
              "      <td>0.015197</td>\n",
              "      <td>0.067549</td>\n",
              "      <td>0.014938</td>\n",
              "      <td>-0.018384</td>\n",
              "      <td>-0.012204</td>\n",
              "      <td>-0.143805</td>\n",
              "      <td>1.000000</td>\n",
              "    </tr>\n",
              "  </tbody>\n",
              "</table>\n",
              "</div>\n",
              "    <div class=\"colab-df-buttons\">\n",
              "\n",
              "  <div class=\"colab-df-container\">\n",
              "    <button class=\"colab-df-convert\" onclick=\"convertToInteractive('df-79bfcc91-fae1-4bc8-bfd0-64eb6153558f')\"\n",
              "            title=\"Convert this dataframe to an interactive table.\"\n",
              "            style=\"display:none;\">\n",
              "\n",
              "  <svg xmlns=\"http://www.w3.org/2000/svg\" height=\"24px\" viewBox=\"0 -960 960 960\">\n",
              "    <path d=\"M120-120v-720h720v720H120Zm60-500h600v-160H180v160Zm220 220h160v-160H400v160Zm0 220h160v-160H400v160ZM180-400h160v-160H180v160Zm440 0h160v-160H620v160ZM180-180h160v-160H180v160Zm440 0h160v-160H620v160Z\"/>\n",
              "  </svg>\n",
              "    </button>\n",
              "\n",
              "  <style>\n",
              "    .colab-df-container {\n",
              "      display:flex;\n",
              "      gap: 12px;\n",
              "    }\n",
              "\n",
              "    .colab-df-convert {\n",
              "      background-color: #E8F0FE;\n",
              "      border: none;\n",
              "      border-radius: 50%;\n",
              "      cursor: pointer;\n",
              "      display: none;\n",
              "      fill: #1967D2;\n",
              "      height: 32px;\n",
              "      padding: 0 0 0 0;\n",
              "      width: 32px;\n",
              "    }\n",
              "\n",
              "    .colab-df-convert:hover {\n",
              "      background-color: #E2EBFA;\n",
              "      box-shadow: 0px 1px 2px rgba(60, 64, 67, 0.3), 0px 1px 3px 1px rgba(60, 64, 67, 0.15);\n",
              "      fill: #174EA6;\n",
              "    }\n",
              "\n",
              "    .colab-df-buttons div {\n",
              "      margin-bottom: 4px;\n",
              "    }\n",
              "\n",
              "    [theme=dark] .colab-df-convert {\n",
              "      background-color: #3B4455;\n",
              "      fill: #D2E3FC;\n",
              "    }\n",
              "\n",
              "    [theme=dark] .colab-df-convert:hover {\n",
              "      background-color: #434B5C;\n",
              "      box-shadow: 0px 1px 3px 1px rgba(0, 0, 0, 0.15);\n",
              "      filter: drop-shadow(0px 1px 2px rgba(0, 0, 0, 0.3));\n",
              "      fill: #FFFFFF;\n",
              "    }\n",
              "  </style>\n",
              "\n",
              "    <script>\n",
              "      const buttonEl =\n",
              "        document.querySelector('#df-79bfcc91-fae1-4bc8-bfd0-64eb6153558f button.colab-df-convert');\n",
              "      buttonEl.style.display =\n",
              "        google.colab.kernel.accessAllowed ? 'block' : 'none';\n",
              "\n",
              "      async function convertToInteractive(key) {\n",
              "        const element = document.querySelector('#df-79bfcc91-fae1-4bc8-bfd0-64eb6153558f');\n",
              "        const dataTable =\n",
              "          await google.colab.kernel.invokeFunction('convertToInteractive',\n",
              "                                                    [key], {});\n",
              "        if (!dataTable) return;\n",
              "\n",
              "        const docLinkHtml = 'Like what you see? Visit the ' +\n",
              "          '<a target=\"_blank\" href=https://colab.research.google.com/notebooks/data_table.ipynb>data table notebook</a>'\n",
              "          + ' to learn more about interactive tables.';\n",
              "        element.innerHTML = '';\n",
              "        dataTable['output_type'] = 'display_data';\n",
              "        await google.colab.output.renderOutput(dataTable, element);\n",
              "        const docLink = document.createElement('div');\n",
              "        docLink.innerHTML = docLinkHtml;\n",
              "        element.appendChild(docLink);\n",
              "      }\n",
              "    </script>\n",
              "  </div>\n",
              "\n",
              "\n",
              "<div id=\"df-d75840de-a35e-4cd9-b1b2-fcc51c3edc60\">\n",
              "  <button class=\"colab-df-quickchart\" onclick=\"quickchart('df-d75840de-a35e-4cd9-b1b2-fcc51c3edc60')\"\n",
              "            title=\"Suggest charts\"\n",
              "            style=\"display:none;\">\n",
              "\n",
              "<svg xmlns=\"http://www.w3.org/2000/svg\" height=\"24px\"viewBox=\"0 0 24 24\"\n",
              "     width=\"24px\">\n",
              "    <g>\n",
              "        <path d=\"M19 3H5c-1.1 0-2 .9-2 2v14c0 1.1.9 2 2 2h14c1.1 0 2-.9 2-2V5c0-1.1-.9-2-2-2zM9 17H7v-7h2v7zm4 0h-2V7h2v10zm4 0h-2v-4h2v4z\"/>\n",
              "    </g>\n",
              "</svg>\n",
              "  </button>\n",
              "\n",
              "<style>\n",
              "  .colab-df-quickchart {\n",
              "      --bg-color: #E8F0FE;\n",
              "      --fill-color: #1967D2;\n",
              "      --hover-bg-color: #E2EBFA;\n",
              "      --hover-fill-color: #174EA6;\n",
              "      --disabled-fill-color: #AAA;\n",
              "      --disabled-bg-color: #DDD;\n",
              "  }\n",
              "\n",
              "  [theme=dark] .colab-df-quickchart {\n",
              "      --bg-color: #3B4455;\n",
              "      --fill-color: #D2E3FC;\n",
              "      --hover-bg-color: #434B5C;\n",
              "      --hover-fill-color: #FFFFFF;\n",
              "      --disabled-bg-color: #3B4455;\n",
              "      --disabled-fill-color: #666;\n",
              "  }\n",
              "\n",
              "  .colab-df-quickchart {\n",
              "    background-color: var(--bg-color);\n",
              "    border: none;\n",
              "    border-radius: 50%;\n",
              "    cursor: pointer;\n",
              "    display: none;\n",
              "    fill: var(--fill-color);\n",
              "    height: 32px;\n",
              "    padding: 0;\n",
              "    width: 32px;\n",
              "  }\n",
              "\n",
              "  .colab-df-quickchart:hover {\n",
              "    background-color: var(--hover-bg-color);\n",
              "    box-shadow: 0 1px 2px rgba(60, 64, 67, 0.3), 0 1px 3px 1px rgba(60, 64, 67, 0.15);\n",
              "    fill: var(--button-hover-fill-color);\n",
              "  }\n",
              "\n",
              "  .colab-df-quickchart-complete:disabled,\n",
              "  .colab-df-quickchart-complete:disabled:hover {\n",
              "    background-color: var(--disabled-bg-color);\n",
              "    fill: var(--disabled-fill-color);\n",
              "    box-shadow: none;\n",
              "  }\n",
              "\n",
              "  .colab-df-spinner {\n",
              "    border: 2px solid var(--fill-color);\n",
              "    border-color: transparent;\n",
              "    border-bottom-color: var(--fill-color);\n",
              "    animation:\n",
              "      spin 1s steps(1) infinite;\n",
              "  }\n",
              "\n",
              "  @keyframes spin {\n",
              "    0% {\n",
              "      border-color: transparent;\n",
              "      border-bottom-color: var(--fill-color);\n",
              "      border-left-color: var(--fill-color);\n",
              "    }\n",
              "    20% {\n",
              "      border-color: transparent;\n",
              "      border-left-color: var(--fill-color);\n",
              "      border-top-color: var(--fill-color);\n",
              "    }\n",
              "    30% {\n",
              "      border-color: transparent;\n",
              "      border-left-color: var(--fill-color);\n",
              "      border-top-color: var(--fill-color);\n",
              "      border-right-color: var(--fill-color);\n",
              "    }\n",
              "    40% {\n",
              "      border-color: transparent;\n",
              "      border-right-color: var(--fill-color);\n",
              "      border-top-color: var(--fill-color);\n",
              "    }\n",
              "    60% {\n",
              "      border-color: transparent;\n",
              "      border-right-color: var(--fill-color);\n",
              "    }\n",
              "    80% {\n",
              "      border-color: transparent;\n",
              "      border-right-color: var(--fill-color);\n",
              "      border-bottom-color: var(--fill-color);\n",
              "    }\n",
              "    90% {\n",
              "      border-color: transparent;\n",
              "      border-bottom-color: var(--fill-color);\n",
              "    }\n",
              "  }\n",
              "</style>\n",
              "\n",
              "  <script>\n",
              "    async function quickchart(key) {\n",
              "      const quickchartButtonEl =\n",
              "        document.querySelector('#' + key + ' button');\n",
              "      quickchartButtonEl.disabled = true;  // To prevent multiple clicks.\n",
              "      quickchartButtonEl.classList.add('colab-df-spinner');\n",
              "      try {\n",
              "        const charts = await google.colab.kernel.invokeFunction(\n",
              "            'suggestCharts', [key], {});\n",
              "      } catch (error) {\n",
              "        console.error('Error during call to suggestCharts:', error);\n",
              "      }\n",
              "      quickchartButtonEl.classList.remove('colab-df-spinner');\n",
              "      quickchartButtonEl.classList.add('colab-df-quickchart-complete');\n",
              "    }\n",
              "    (() => {\n",
              "      let quickchartButtonEl =\n",
              "        document.querySelector('#df-d75840de-a35e-4cd9-b1b2-fcc51c3edc60 button');\n",
              "      quickchartButtonEl.style.display =\n",
              "        google.colab.kernel.accessAllowed ? 'block' : 'none';\n",
              "    })();\n",
              "  </script>\n",
              "</div>\n",
              "    </div>\n",
              "  </div>\n"
            ]
          },
          "metadata": {},
          "execution_count": 10
        }
      ],
      "source": [
        "df1.corr(method='pearson',numeric_only = True)"
      ]
    },
    {
      "cell_type": "code",
      "execution_count": null,
      "metadata": {
        "id": "4hzAhHI0RjJ7",
        "colab": {
          "base_uri": "https://localhost:8080/",
          "height": 320
        },
        "outputId": "a48bc6cc-64ab-4371-bccd-b8edad70ad49"
      },
      "outputs": [
        {
          "output_type": "execute_result",
          "data": {
            "text/plain": [
              "                pos           flw           flg            bl           pic  \\\n",
              "count  65326.000000  6.532600e+04  65326.000000  65326.000000  65326.000000   \n",
              "mean     176.571227  1.183077e+03   2310.519211     57.497061      0.951765   \n",
              "std      723.470655  2.170802e+04   2592.096104     64.129260      0.214264   \n",
              "min        0.000000  0.000000e+00      0.000000      0.000000      0.000000   \n",
              "25%        6.000000  1.230000e+02    394.000000      0.000000      1.000000   \n",
              "50%       30.000000  3.380000e+02    995.000000     32.000000      1.000000   \n",
              "75%      124.000000  8.170000e+02   3600.000000    110.000000      1.000000   \n",
              "max    76200.000000  3.900000e+06   8800.000000    555.000000      1.000000   \n",
              "\n",
              "                lin            cl            cz            ni           erl  \\\n",
              "count  65326.000000  65326.000000  65326.000000  65326.000000  65326.000000   \n",
              "mean       0.281925    136.520344      0.250012      0.193229     19.146641   \n",
              "std        0.449940    215.714486      0.337891      0.252939    121.047570   \n",
              "min        0.000000     -1.000000      0.000000      0.000000      0.000000   \n",
              "25%        0.000000      8.000000      0.000000      0.000000      2.730000   \n",
              "50%        0.000000     46.000000      0.055556      0.059000      9.450000   \n",
              "75%        1.000000    170.000000      0.444444      0.333000     18.680000   \n",
              "max        1.000000   3644.000000      1.000000      1.000000  26650.000000   \n",
              "\n",
              "                erc            lt            hc            pr            fo  \\\n",
              "count  65326.000000  65326.000000  65326.000000  65326.000000  65326.000000   \n",
              "mean       1.139421      0.208877      0.507796      0.032745      0.052837   \n",
              "std        5.810627      0.300362      1.156921      0.220987      0.519058   \n",
              "min        0.000000      0.000000      0.000000      0.000000      0.000000   \n",
              "25%        0.080000      0.000000      0.000000      0.000000      0.000000   \n",
              "50%        0.440000      0.000000      0.077000      0.000000      0.000000   \n",
              "75%        1.040000      0.333000      0.611000      0.000000      0.000000   \n",
              "max     1009.090027      1.000000     30.000000     20.000000     58.000000   \n",
              "\n",
              "                 cs            pi  \n",
              "count  65326.000000  65326.000000  \n",
              "mean       0.299098    496.475193  \n",
              "std        0.349604    944.905389  \n",
              "min        0.000000      0.000000  \n",
              "25%        0.033327     24.571458  \n",
              "50%        0.136915    183.227943  \n",
              "75%        0.456342    580.771927  \n",
              "max        1.000000  26786.134766  "
            ],
            "text/html": [
              "\n",
              "  <div id=\"df-3bc6c10a-6c8b-406e-a0e3-bbfedcda45cb\" class=\"colab-df-container\">\n",
              "    <div>\n",
              "<style scoped>\n",
              "    .dataframe tbody tr th:only-of-type {\n",
              "        vertical-align: middle;\n",
              "    }\n",
              "\n",
              "    .dataframe tbody tr th {\n",
              "        vertical-align: top;\n",
              "    }\n",
              "\n",
              "    .dataframe thead th {\n",
              "        text-align: right;\n",
              "    }\n",
              "</style>\n",
              "<table border=\"1\" class=\"dataframe\">\n",
              "  <thead>\n",
              "    <tr style=\"text-align: right;\">\n",
              "      <th></th>\n",
              "      <th>pos</th>\n",
              "      <th>flw</th>\n",
              "      <th>flg</th>\n",
              "      <th>bl</th>\n",
              "      <th>pic</th>\n",
              "      <th>lin</th>\n",
              "      <th>cl</th>\n",
              "      <th>cz</th>\n",
              "      <th>ni</th>\n",
              "      <th>erl</th>\n",
              "      <th>erc</th>\n",
              "      <th>lt</th>\n",
              "      <th>hc</th>\n",
              "      <th>pr</th>\n",
              "      <th>fo</th>\n",
              "      <th>cs</th>\n",
              "      <th>pi</th>\n",
              "    </tr>\n",
              "  </thead>\n",
              "  <tbody>\n",
              "    <tr>\n",
              "      <th>count</th>\n",
              "      <td>65326.000000</td>\n",
              "      <td>6.532600e+04</td>\n",
              "      <td>65326.000000</td>\n",
              "      <td>65326.000000</td>\n",
              "      <td>65326.000000</td>\n",
              "      <td>65326.000000</td>\n",
              "      <td>65326.000000</td>\n",
              "      <td>65326.000000</td>\n",
              "      <td>65326.000000</td>\n",
              "      <td>65326.000000</td>\n",
              "      <td>65326.000000</td>\n",
              "      <td>65326.000000</td>\n",
              "      <td>65326.000000</td>\n",
              "      <td>65326.000000</td>\n",
              "      <td>65326.000000</td>\n",
              "      <td>65326.000000</td>\n",
              "      <td>65326.000000</td>\n",
              "    </tr>\n",
              "    <tr>\n",
              "      <th>mean</th>\n",
              "      <td>176.571227</td>\n",
              "      <td>1.183077e+03</td>\n",
              "      <td>2310.519211</td>\n",
              "      <td>57.497061</td>\n",
              "      <td>0.951765</td>\n",
              "      <td>0.281925</td>\n",
              "      <td>136.520344</td>\n",
              "      <td>0.250012</td>\n",
              "      <td>0.193229</td>\n",
              "      <td>19.146641</td>\n",
              "      <td>1.139421</td>\n",
              "      <td>0.208877</td>\n",
              "      <td>0.507796</td>\n",
              "      <td>0.032745</td>\n",
              "      <td>0.052837</td>\n",
              "      <td>0.299098</td>\n",
              "      <td>496.475193</td>\n",
              "    </tr>\n",
              "    <tr>\n",
              "      <th>std</th>\n",
              "      <td>723.470655</td>\n",
              "      <td>2.170802e+04</td>\n",
              "      <td>2592.096104</td>\n",
              "      <td>64.129260</td>\n",
              "      <td>0.214264</td>\n",
              "      <td>0.449940</td>\n",
              "      <td>215.714486</td>\n",
              "      <td>0.337891</td>\n",
              "      <td>0.252939</td>\n",
              "      <td>121.047570</td>\n",
              "      <td>5.810627</td>\n",
              "      <td>0.300362</td>\n",
              "      <td>1.156921</td>\n",
              "      <td>0.220987</td>\n",
              "      <td>0.519058</td>\n",
              "      <td>0.349604</td>\n",
              "      <td>944.905389</td>\n",
              "    </tr>\n",
              "    <tr>\n",
              "      <th>min</th>\n",
              "      <td>0.000000</td>\n",
              "      <td>0.000000e+00</td>\n",
              "      <td>0.000000</td>\n",
              "      <td>0.000000</td>\n",
              "      <td>0.000000</td>\n",
              "      <td>0.000000</td>\n",
              "      <td>-1.000000</td>\n",
              "      <td>0.000000</td>\n",
              "      <td>0.000000</td>\n",
              "      <td>0.000000</td>\n",
              "      <td>0.000000</td>\n",
              "      <td>0.000000</td>\n",
              "      <td>0.000000</td>\n",
              "      <td>0.000000</td>\n",
              "      <td>0.000000</td>\n",
              "      <td>0.000000</td>\n",
              "      <td>0.000000</td>\n",
              "    </tr>\n",
              "    <tr>\n",
              "      <th>25%</th>\n",
              "      <td>6.000000</td>\n",
              "      <td>1.230000e+02</td>\n",
              "      <td>394.000000</td>\n",
              "      <td>0.000000</td>\n",
              "      <td>1.000000</td>\n",
              "      <td>0.000000</td>\n",
              "      <td>8.000000</td>\n",
              "      <td>0.000000</td>\n",
              "      <td>0.000000</td>\n",
              "      <td>2.730000</td>\n",
              "      <td>0.080000</td>\n",
              "      <td>0.000000</td>\n",
              "      <td>0.000000</td>\n",
              "      <td>0.000000</td>\n",
              "      <td>0.000000</td>\n",
              "      <td>0.033327</td>\n",
              "      <td>24.571458</td>\n",
              "    </tr>\n",
              "    <tr>\n",
              "      <th>50%</th>\n",
              "      <td>30.000000</td>\n",
              "      <td>3.380000e+02</td>\n",
              "      <td>995.000000</td>\n",
              "      <td>32.000000</td>\n",
              "      <td>1.000000</td>\n",
              "      <td>0.000000</td>\n",
              "      <td>46.000000</td>\n",
              "      <td>0.055556</td>\n",
              "      <td>0.059000</td>\n",
              "      <td>9.450000</td>\n",
              "      <td>0.440000</td>\n",
              "      <td>0.000000</td>\n",
              "      <td>0.077000</td>\n",
              "      <td>0.000000</td>\n",
              "      <td>0.000000</td>\n",
              "      <td>0.136915</td>\n",
              "      <td>183.227943</td>\n",
              "    </tr>\n",
              "    <tr>\n",
              "      <th>75%</th>\n",
              "      <td>124.000000</td>\n",
              "      <td>8.170000e+02</td>\n",
              "      <td>3600.000000</td>\n",
              "      <td>110.000000</td>\n",
              "      <td>1.000000</td>\n",
              "      <td>1.000000</td>\n",
              "      <td>170.000000</td>\n",
              "      <td>0.444444</td>\n",
              "      <td>0.333000</td>\n",
              "      <td>18.680000</td>\n",
              "      <td>1.040000</td>\n",
              "      <td>0.333000</td>\n",
              "      <td>0.611000</td>\n",
              "      <td>0.000000</td>\n",
              "      <td>0.000000</td>\n",
              "      <td>0.456342</td>\n",
              "      <td>580.771927</td>\n",
              "    </tr>\n",
              "    <tr>\n",
              "      <th>max</th>\n",
              "      <td>76200.000000</td>\n",
              "      <td>3.900000e+06</td>\n",
              "      <td>8800.000000</td>\n",
              "      <td>555.000000</td>\n",
              "      <td>1.000000</td>\n",
              "      <td>1.000000</td>\n",
              "      <td>3644.000000</td>\n",
              "      <td>1.000000</td>\n",
              "      <td>1.000000</td>\n",
              "      <td>26650.000000</td>\n",
              "      <td>1009.090027</td>\n",
              "      <td>1.000000</td>\n",
              "      <td>30.000000</td>\n",
              "      <td>20.000000</td>\n",
              "      <td>58.000000</td>\n",
              "      <td>1.000000</td>\n",
              "      <td>26786.134766</td>\n",
              "    </tr>\n",
              "  </tbody>\n",
              "</table>\n",
              "</div>\n",
              "    <div class=\"colab-df-buttons\">\n",
              "\n",
              "  <div class=\"colab-df-container\">\n",
              "    <button class=\"colab-df-convert\" onclick=\"convertToInteractive('df-3bc6c10a-6c8b-406e-a0e3-bbfedcda45cb')\"\n",
              "            title=\"Convert this dataframe to an interactive table.\"\n",
              "            style=\"display:none;\">\n",
              "\n",
              "  <svg xmlns=\"http://www.w3.org/2000/svg\" height=\"24px\" viewBox=\"0 -960 960 960\">\n",
              "    <path d=\"M120-120v-720h720v720H120Zm60-500h600v-160H180v160Zm220 220h160v-160H400v160Zm0 220h160v-160H400v160ZM180-400h160v-160H180v160Zm440 0h160v-160H620v160ZM180-180h160v-160H180v160Zm440 0h160v-160H620v160Z\"/>\n",
              "  </svg>\n",
              "    </button>\n",
              "\n",
              "  <style>\n",
              "    .colab-df-container {\n",
              "      display:flex;\n",
              "      gap: 12px;\n",
              "    }\n",
              "\n",
              "    .colab-df-convert {\n",
              "      background-color: #E8F0FE;\n",
              "      border: none;\n",
              "      border-radius: 50%;\n",
              "      cursor: pointer;\n",
              "      display: none;\n",
              "      fill: #1967D2;\n",
              "      height: 32px;\n",
              "      padding: 0 0 0 0;\n",
              "      width: 32px;\n",
              "    }\n",
              "\n",
              "    .colab-df-convert:hover {\n",
              "      background-color: #E2EBFA;\n",
              "      box-shadow: 0px 1px 2px rgba(60, 64, 67, 0.3), 0px 1px 3px 1px rgba(60, 64, 67, 0.15);\n",
              "      fill: #174EA6;\n",
              "    }\n",
              "\n",
              "    .colab-df-buttons div {\n",
              "      margin-bottom: 4px;\n",
              "    }\n",
              "\n",
              "    [theme=dark] .colab-df-convert {\n",
              "      background-color: #3B4455;\n",
              "      fill: #D2E3FC;\n",
              "    }\n",
              "\n",
              "    [theme=dark] .colab-df-convert:hover {\n",
              "      background-color: #434B5C;\n",
              "      box-shadow: 0px 1px 3px 1px rgba(0, 0, 0, 0.15);\n",
              "      filter: drop-shadow(0px 1px 2px rgba(0, 0, 0, 0.3));\n",
              "      fill: #FFFFFF;\n",
              "    }\n",
              "  </style>\n",
              "\n",
              "    <script>\n",
              "      const buttonEl =\n",
              "        document.querySelector('#df-3bc6c10a-6c8b-406e-a0e3-bbfedcda45cb button.colab-df-convert');\n",
              "      buttonEl.style.display =\n",
              "        google.colab.kernel.accessAllowed ? 'block' : 'none';\n",
              "\n",
              "      async function convertToInteractive(key) {\n",
              "        const element = document.querySelector('#df-3bc6c10a-6c8b-406e-a0e3-bbfedcda45cb');\n",
              "        const dataTable =\n",
              "          await google.colab.kernel.invokeFunction('convertToInteractive',\n",
              "                                                    [key], {});\n",
              "        if (!dataTable) return;\n",
              "\n",
              "        const docLinkHtml = 'Like what you see? Visit the ' +\n",
              "          '<a target=\"_blank\" href=https://colab.research.google.com/notebooks/data_table.ipynb>data table notebook</a>'\n",
              "          + ' to learn more about interactive tables.';\n",
              "        element.innerHTML = '';\n",
              "        dataTable['output_type'] = 'display_data';\n",
              "        await google.colab.output.renderOutput(dataTable, element);\n",
              "        const docLink = document.createElement('div');\n",
              "        docLink.innerHTML = docLinkHtml;\n",
              "        element.appendChild(docLink);\n",
              "      }\n",
              "    </script>\n",
              "  </div>\n",
              "\n",
              "\n",
              "<div id=\"df-8df47ade-4d7d-4c4a-bdf2-88797a323257\">\n",
              "  <button class=\"colab-df-quickchart\" onclick=\"quickchart('df-8df47ade-4d7d-4c4a-bdf2-88797a323257')\"\n",
              "            title=\"Suggest charts\"\n",
              "            style=\"display:none;\">\n",
              "\n",
              "<svg xmlns=\"http://www.w3.org/2000/svg\" height=\"24px\"viewBox=\"0 0 24 24\"\n",
              "     width=\"24px\">\n",
              "    <g>\n",
              "        <path d=\"M19 3H5c-1.1 0-2 .9-2 2v14c0 1.1.9 2 2 2h14c1.1 0 2-.9 2-2V5c0-1.1-.9-2-2-2zM9 17H7v-7h2v7zm4 0h-2V7h2v10zm4 0h-2v-4h2v4z\"/>\n",
              "    </g>\n",
              "</svg>\n",
              "  </button>\n",
              "\n",
              "<style>\n",
              "  .colab-df-quickchart {\n",
              "      --bg-color: #E8F0FE;\n",
              "      --fill-color: #1967D2;\n",
              "      --hover-bg-color: #E2EBFA;\n",
              "      --hover-fill-color: #174EA6;\n",
              "      --disabled-fill-color: #AAA;\n",
              "      --disabled-bg-color: #DDD;\n",
              "  }\n",
              "\n",
              "  [theme=dark] .colab-df-quickchart {\n",
              "      --bg-color: #3B4455;\n",
              "      --fill-color: #D2E3FC;\n",
              "      --hover-bg-color: #434B5C;\n",
              "      --hover-fill-color: #FFFFFF;\n",
              "      --disabled-bg-color: #3B4455;\n",
              "      --disabled-fill-color: #666;\n",
              "  }\n",
              "\n",
              "  .colab-df-quickchart {\n",
              "    background-color: var(--bg-color);\n",
              "    border: none;\n",
              "    border-radius: 50%;\n",
              "    cursor: pointer;\n",
              "    display: none;\n",
              "    fill: var(--fill-color);\n",
              "    height: 32px;\n",
              "    padding: 0;\n",
              "    width: 32px;\n",
              "  }\n",
              "\n",
              "  .colab-df-quickchart:hover {\n",
              "    background-color: var(--hover-bg-color);\n",
              "    box-shadow: 0 1px 2px rgba(60, 64, 67, 0.3), 0 1px 3px 1px rgba(60, 64, 67, 0.15);\n",
              "    fill: var(--button-hover-fill-color);\n",
              "  }\n",
              "\n",
              "  .colab-df-quickchart-complete:disabled,\n",
              "  .colab-df-quickchart-complete:disabled:hover {\n",
              "    background-color: var(--disabled-bg-color);\n",
              "    fill: var(--disabled-fill-color);\n",
              "    box-shadow: none;\n",
              "  }\n",
              "\n",
              "  .colab-df-spinner {\n",
              "    border: 2px solid var(--fill-color);\n",
              "    border-color: transparent;\n",
              "    border-bottom-color: var(--fill-color);\n",
              "    animation:\n",
              "      spin 1s steps(1) infinite;\n",
              "  }\n",
              "\n",
              "  @keyframes spin {\n",
              "    0% {\n",
              "      border-color: transparent;\n",
              "      border-bottom-color: var(--fill-color);\n",
              "      border-left-color: var(--fill-color);\n",
              "    }\n",
              "    20% {\n",
              "      border-color: transparent;\n",
              "      border-left-color: var(--fill-color);\n",
              "      border-top-color: var(--fill-color);\n",
              "    }\n",
              "    30% {\n",
              "      border-color: transparent;\n",
              "      border-left-color: var(--fill-color);\n",
              "      border-top-color: var(--fill-color);\n",
              "      border-right-color: var(--fill-color);\n",
              "    }\n",
              "    40% {\n",
              "      border-color: transparent;\n",
              "      border-right-color: var(--fill-color);\n",
              "      border-top-color: var(--fill-color);\n",
              "    }\n",
              "    60% {\n",
              "      border-color: transparent;\n",
              "      border-right-color: var(--fill-color);\n",
              "    }\n",
              "    80% {\n",
              "      border-color: transparent;\n",
              "      border-right-color: var(--fill-color);\n",
              "      border-bottom-color: var(--fill-color);\n",
              "    }\n",
              "    90% {\n",
              "      border-color: transparent;\n",
              "      border-bottom-color: var(--fill-color);\n",
              "    }\n",
              "  }\n",
              "</style>\n",
              "\n",
              "  <script>\n",
              "    async function quickchart(key) {\n",
              "      const quickchartButtonEl =\n",
              "        document.querySelector('#' + key + ' button');\n",
              "      quickchartButtonEl.disabled = true;  // To prevent multiple clicks.\n",
              "      quickchartButtonEl.classList.add('colab-df-spinner');\n",
              "      try {\n",
              "        const charts = await google.colab.kernel.invokeFunction(\n",
              "            'suggestCharts', [key], {});\n",
              "      } catch (error) {\n",
              "        console.error('Error during call to suggestCharts:', error);\n",
              "      }\n",
              "      quickchartButtonEl.classList.remove('colab-df-spinner');\n",
              "      quickchartButtonEl.classList.add('colab-df-quickchart-complete');\n",
              "    }\n",
              "    (() => {\n",
              "      let quickchartButtonEl =\n",
              "        document.querySelector('#df-8df47ade-4d7d-4c4a-bdf2-88797a323257 button');\n",
              "      quickchartButtonEl.style.display =\n",
              "        google.colab.kernel.accessAllowed ? 'block' : 'none';\n",
              "    })();\n",
              "  </script>\n",
              "</div>\n",
              "    </div>\n",
              "  </div>\n"
            ]
          },
          "metadata": {},
          "execution_count": 11
        }
      ],
      "source": [
        "df1.describe()"
      ]
    },
    {
      "cell_type": "code",
      "execution_count": null,
      "metadata": {
        "id": "pgUOs5plRuAv",
        "colab": {
          "base_uri": "https://localhost:8080/"
        },
        "outputId": "c54c8342-3d70-45a9-cc04-b8abd5d895ba"
      },
      "outputs": [
        {
          "output_type": "stream",
          "name": "stdout",
          "text": [
            "f    32866\n",
            "r    32460\n",
            "Name: class, dtype: int64\n"
          ]
        }
      ],
      "source": [
        "print(df1['class'].value_counts())"
      ]
    },
    {
      "cell_type": "code",
      "execution_count": null,
      "metadata": {
        "id": "n_jj3CqZR9_-",
        "colab": {
          "base_uri": "https://localhost:8080/",
          "height": 163
        },
        "outputId": "528d0227-b1d0-4826-9157-d18d7bc70f7f"
      },
      "outputs": [
        {
          "output_type": "execute_result",
          "data": {
            "text/plain": [
              "              pos          flw          flg         bl       pic       lin  \\\n",
              "class                                                                        \n",
              "f      161.639719   711.131565  3330.621919  41.301254  0.915627  0.117294   \n",
              "r      191.689495  1660.926001  1277.657363  73.895441  0.988355  0.448614   \n",
              "\n",
              "               cl        cz        ni        erl       erc        lt  \\\n",
              "class                                                                  \n",
              "f      120.928041  0.318571  0.152643  20.352276  0.985127  0.113298   \n",
              "r      152.307671  0.180595  0.234323  17.925925  1.295645  0.305652   \n",
              "\n",
              "             hc        pr        fo        cs          pi  \n",
              "class                                                      \n",
              "f      0.399242  0.055616  0.072769  0.405743  350.164685  \n",
              "r      0.617707  0.009587  0.032657  0.191118  644.615709  "
            ],
            "text/html": [
              "\n",
              "  <div id=\"df-41003510-aa58-45e5-bd09-b1a70187d619\" class=\"colab-df-container\">\n",
              "    <div>\n",
              "<style scoped>\n",
              "    .dataframe tbody tr th:only-of-type {\n",
              "        vertical-align: middle;\n",
              "    }\n",
              "\n",
              "    .dataframe tbody tr th {\n",
              "        vertical-align: top;\n",
              "    }\n",
              "\n",
              "    .dataframe thead th {\n",
              "        text-align: right;\n",
              "    }\n",
              "</style>\n",
              "<table border=\"1\" class=\"dataframe\">\n",
              "  <thead>\n",
              "    <tr style=\"text-align: right;\">\n",
              "      <th></th>\n",
              "      <th>pos</th>\n",
              "      <th>flw</th>\n",
              "      <th>flg</th>\n",
              "      <th>bl</th>\n",
              "      <th>pic</th>\n",
              "      <th>lin</th>\n",
              "      <th>cl</th>\n",
              "      <th>cz</th>\n",
              "      <th>ni</th>\n",
              "      <th>erl</th>\n",
              "      <th>erc</th>\n",
              "      <th>lt</th>\n",
              "      <th>hc</th>\n",
              "      <th>pr</th>\n",
              "      <th>fo</th>\n",
              "      <th>cs</th>\n",
              "      <th>pi</th>\n",
              "    </tr>\n",
              "    <tr>\n",
              "      <th>class</th>\n",
              "      <th></th>\n",
              "      <th></th>\n",
              "      <th></th>\n",
              "      <th></th>\n",
              "      <th></th>\n",
              "      <th></th>\n",
              "      <th></th>\n",
              "      <th></th>\n",
              "      <th></th>\n",
              "      <th></th>\n",
              "      <th></th>\n",
              "      <th></th>\n",
              "      <th></th>\n",
              "      <th></th>\n",
              "      <th></th>\n",
              "      <th></th>\n",
              "      <th></th>\n",
              "    </tr>\n",
              "  </thead>\n",
              "  <tbody>\n",
              "    <tr>\n",
              "      <th>f</th>\n",
              "      <td>161.639719</td>\n",
              "      <td>711.131565</td>\n",
              "      <td>3330.621919</td>\n",
              "      <td>41.301254</td>\n",
              "      <td>0.915627</td>\n",
              "      <td>0.117294</td>\n",
              "      <td>120.928041</td>\n",
              "      <td>0.318571</td>\n",
              "      <td>0.152643</td>\n",
              "      <td>20.352276</td>\n",
              "      <td>0.985127</td>\n",
              "      <td>0.113298</td>\n",
              "      <td>0.399242</td>\n",
              "      <td>0.055616</td>\n",
              "      <td>0.072769</td>\n",
              "      <td>0.405743</td>\n",
              "      <td>350.164685</td>\n",
              "    </tr>\n",
              "    <tr>\n",
              "      <th>r</th>\n",
              "      <td>191.689495</td>\n",
              "      <td>1660.926001</td>\n",
              "      <td>1277.657363</td>\n",
              "      <td>73.895441</td>\n",
              "      <td>0.988355</td>\n",
              "      <td>0.448614</td>\n",
              "      <td>152.307671</td>\n",
              "      <td>0.180595</td>\n",
              "      <td>0.234323</td>\n",
              "      <td>17.925925</td>\n",
              "      <td>1.295645</td>\n",
              "      <td>0.305652</td>\n",
              "      <td>0.617707</td>\n",
              "      <td>0.009587</td>\n",
              "      <td>0.032657</td>\n",
              "      <td>0.191118</td>\n",
              "      <td>644.615709</td>\n",
              "    </tr>\n",
              "  </tbody>\n",
              "</table>\n",
              "</div>\n",
              "    <div class=\"colab-df-buttons\">\n",
              "\n",
              "  <div class=\"colab-df-container\">\n",
              "    <button class=\"colab-df-convert\" onclick=\"convertToInteractive('df-41003510-aa58-45e5-bd09-b1a70187d619')\"\n",
              "            title=\"Convert this dataframe to an interactive table.\"\n",
              "            style=\"display:none;\">\n",
              "\n",
              "  <svg xmlns=\"http://www.w3.org/2000/svg\" height=\"24px\" viewBox=\"0 -960 960 960\">\n",
              "    <path d=\"M120-120v-720h720v720H120Zm60-500h600v-160H180v160Zm220 220h160v-160H400v160Zm0 220h160v-160H400v160ZM180-400h160v-160H180v160Zm440 0h160v-160H620v160ZM180-180h160v-160H180v160Zm440 0h160v-160H620v160Z\"/>\n",
              "  </svg>\n",
              "    </button>\n",
              "\n",
              "  <style>\n",
              "    .colab-df-container {\n",
              "      display:flex;\n",
              "      gap: 12px;\n",
              "    }\n",
              "\n",
              "    .colab-df-convert {\n",
              "      background-color: #E8F0FE;\n",
              "      border: none;\n",
              "      border-radius: 50%;\n",
              "      cursor: pointer;\n",
              "      display: none;\n",
              "      fill: #1967D2;\n",
              "      height: 32px;\n",
              "      padding: 0 0 0 0;\n",
              "      width: 32px;\n",
              "    }\n",
              "\n",
              "    .colab-df-convert:hover {\n",
              "      background-color: #E2EBFA;\n",
              "      box-shadow: 0px 1px 2px rgba(60, 64, 67, 0.3), 0px 1px 3px 1px rgba(60, 64, 67, 0.15);\n",
              "      fill: #174EA6;\n",
              "    }\n",
              "\n",
              "    .colab-df-buttons div {\n",
              "      margin-bottom: 4px;\n",
              "    }\n",
              "\n",
              "    [theme=dark] .colab-df-convert {\n",
              "      background-color: #3B4455;\n",
              "      fill: #D2E3FC;\n",
              "    }\n",
              "\n",
              "    [theme=dark] .colab-df-convert:hover {\n",
              "      background-color: #434B5C;\n",
              "      box-shadow: 0px 1px 3px 1px rgba(0, 0, 0, 0.15);\n",
              "      filter: drop-shadow(0px 1px 2px rgba(0, 0, 0, 0.3));\n",
              "      fill: #FFFFFF;\n",
              "    }\n",
              "  </style>\n",
              "\n",
              "    <script>\n",
              "      const buttonEl =\n",
              "        document.querySelector('#df-41003510-aa58-45e5-bd09-b1a70187d619 button.colab-df-convert');\n",
              "      buttonEl.style.display =\n",
              "        google.colab.kernel.accessAllowed ? 'block' : 'none';\n",
              "\n",
              "      async function convertToInteractive(key) {\n",
              "        const element = document.querySelector('#df-41003510-aa58-45e5-bd09-b1a70187d619');\n",
              "        const dataTable =\n",
              "          await google.colab.kernel.invokeFunction('convertToInteractive',\n",
              "                                                    [key], {});\n",
              "        if (!dataTable) return;\n",
              "\n",
              "        const docLinkHtml = 'Like what you see? Visit the ' +\n",
              "          '<a target=\"_blank\" href=https://colab.research.google.com/notebooks/data_table.ipynb>data table notebook</a>'\n",
              "          + ' to learn more about interactive tables.';\n",
              "        element.innerHTML = '';\n",
              "        dataTable['output_type'] = 'display_data';\n",
              "        await google.colab.output.renderOutput(dataTable, element);\n",
              "        const docLink = document.createElement('div');\n",
              "        docLink.innerHTML = docLinkHtml;\n",
              "        element.appendChild(docLink);\n",
              "      }\n",
              "    </script>\n",
              "  </div>\n",
              "\n",
              "\n",
              "<div id=\"df-e26d121d-a460-4465-9b99-45a6dbb95eb5\">\n",
              "  <button class=\"colab-df-quickchart\" onclick=\"quickchart('df-e26d121d-a460-4465-9b99-45a6dbb95eb5')\"\n",
              "            title=\"Suggest charts\"\n",
              "            style=\"display:none;\">\n",
              "\n",
              "<svg xmlns=\"http://www.w3.org/2000/svg\" height=\"24px\"viewBox=\"0 0 24 24\"\n",
              "     width=\"24px\">\n",
              "    <g>\n",
              "        <path d=\"M19 3H5c-1.1 0-2 .9-2 2v14c0 1.1.9 2 2 2h14c1.1 0 2-.9 2-2V5c0-1.1-.9-2-2-2zM9 17H7v-7h2v7zm4 0h-2V7h2v10zm4 0h-2v-4h2v4z\"/>\n",
              "    </g>\n",
              "</svg>\n",
              "  </button>\n",
              "\n",
              "<style>\n",
              "  .colab-df-quickchart {\n",
              "      --bg-color: #E8F0FE;\n",
              "      --fill-color: #1967D2;\n",
              "      --hover-bg-color: #E2EBFA;\n",
              "      --hover-fill-color: #174EA6;\n",
              "      --disabled-fill-color: #AAA;\n",
              "      --disabled-bg-color: #DDD;\n",
              "  }\n",
              "\n",
              "  [theme=dark] .colab-df-quickchart {\n",
              "      --bg-color: #3B4455;\n",
              "      --fill-color: #D2E3FC;\n",
              "      --hover-bg-color: #434B5C;\n",
              "      --hover-fill-color: #FFFFFF;\n",
              "      --disabled-bg-color: #3B4455;\n",
              "      --disabled-fill-color: #666;\n",
              "  }\n",
              "\n",
              "  .colab-df-quickchart {\n",
              "    background-color: var(--bg-color);\n",
              "    border: none;\n",
              "    border-radius: 50%;\n",
              "    cursor: pointer;\n",
              "    display: none;\n",
              "    fill: var(--fill-color);\n",
              "    height: 32px;\n",
              "    padding: 0;\n",
              "    width: 32px;\n",
              "  }\n",
              "\n",
              "  .colab-df-quickchart:hover {\n",
              "    background-color: var(--hover-bg-color);\n",
              "    box-shadow: 0 1px 2px rgba(60, 64, 67, 0.3), 0 1px 3px 1px rgba(60, 64, 67, 0.15);\n",
              "    fill: var(--button-hover-fill-color);\n",
              "  }\n",
              "\n",
              "  .colab-df-quickchart-complete:disabled,\n",
              "  .colab-df-quickchart-complete:disabled:hover {\n",
              "    background-color: var(--disabled-bg-color);\n",
              "    fill: var(--disabled-fill-color);\n",
              "    box-shadow: none;\n",
              "  }\n",
              "\n",
              "  .colab-df-spinner {\n",
              "    border: 2px solid var(--fill-color);\n",
              "    border-color: transparent;\n",
              "    border-bottom-color: var(--fill-color);\n",
              "    animation:\n",
              "      spin 1s steps(1) infinite;\n",
              "  }\n",
              "\n",
              "  @keyframes spin {\n",
              "    0% {\n",
              "      border-color: transparent;\n",
              "      border-bottom-color: var(--fill-color);\n",
              "      border-left-color: var(--fill-color);\n",
              "    }\n",
              "    20% {\n",
              "      border-color: transparent;\n",
              "      border-left-color: var(--fill-color);\n",
              "      border-top-color: var(--fill-color);\n",
              "    }\n",
              "    30% {\n",
              "      border-color: transparent;\n",
              "      border-left-color: var(--fill-color);\n",
              "      border-top-color: var(--fill-color);\n",
              "      border-right-color: var(--fill-color);\n",
              "    }\n",
              "    40% {\n",
              "      border-color: transparent;\n",
              "      border-right-color: var(--fill-color);\n",
              "      border-top-color: var(--fill-color);\n",
              "    }\n",
              "    60% {\n",
              "      border-color: transparent;\n",
              "      border-right-color: var(--fill-color);\n",
              "    }\n",
              "    80% {\n",
              "      border-color: transparent;\n",
              "      border-right-color: var(--fill-color);\n",
              "      border-bottom-color: var(--fill-color);\n",
              "    }\n",
              "    90% {\n",
              "      border-color: transparent;\n",
              "      border-bottom-color: var(--fill-color);\n",
              "    }\n",
              "  }\n",
              "</style>\n",
              "\n",
              "  <script>\n",
              "    async function quickchart(key) {\n",
              "      const quickchartButtonEl =\n",
              "        document.querySelector('#' + key + ' button');\n",
              "      quickchartButtonEl.disabled = true;  // To prevent multiple clicks.\n",
              "      quickchartButtonEl.classList.add('colab-df-spinner');\n",
              "      try {\n",
              "        const charts = await google.colab.kernel.invokeFunction(\n",
              "            'suggestCharts', [key], {});\n",
              "      } catch (error) {\n",
              "        console.error('Error during call to suggestCharts:', error);\n",
              "      }\n",
              "      quickchartButtonEl.classList.remove('colab-df-spinner');\n",
              "      quickchartButtonEl.classList.add('colab-df-quickchart-complete');\n",
              "    }\n",
              "    (() => {\n",
              "      let quickchartButtonEl =\n",
              "        document.querySelector('#df-e26d121d-a460-4465-9b99-45a6dbb95eb5 button');\n",
              "      quickchartButtonEl.style.display =\n",
              "        google.colab.kernel.accessAllowed ? 'block' : 'none';\n",
              "    })();\n",
              "  </script>\n",
              "</div>\n",
              "    </div>\n",
              "  </div>\n"
            ]
          },
          "metadata": {},
          "execution_count": 59
        }
      ],
      "source": [
        "df1.groupby('class').mean()"
      ]
    },
    {
      "cell_type": "code",
      "source": [
        "df2.groupby('class').mean()"
      ],
      "metadata": {
        "colab": {
          "base_uri": "https://localhost:8080/",
          "height": 226
        },
        "id": "PLsn0yZZqFFR",
        "outputId": "c659fc3b-3218-4066-e1bf-dddfdd9dc71b"
      },
      "execution_count": null,
      "outputs": [
        {
          "output_type": "execute_result",
          "data": {
            "text/plain": [
              "              pos          flw          flg         bl       pic       lin  \\\n",
              "class                                                                        \n",
              "a      186.029783   829.537415  3142.127841  51.124191  0.989879  0.149411   \n",
              "i        1.808039   215.714286  3816.522040  12.475874  0.765475  0.030619   \n",
              "r      123.945216  1193.708074  1204.079782  61.882578  0.986208  0.221626   \n",
              "s      297.279061  1081.285784  3052.569424  59.392770  0.982754  0.168664   \n",
              "\n",
              "               cl        cz        ni        erl       erc        lt  \\\n",
              "class                                                                  \n",
              "a      117.739340  0.298200  0.224027   9.857296  0.443634  0.170699   \n",
              "i       11.705754  0.341568  0.056839  38.205265  1.859623  0.047118   \n",
              "r      120.678575  0.205862  0.284415  20.570575  1.533438  0.344712   \n",
              "s      236.939199  0.318858  0.167274  14.328240  0.722252  0.113904   \n",
              "\n",
              "             hc        pr        fo        cs          pi  \n",
              "class                                                      \n",
              "a      0.348703  0.014297  0.008579  0.222825  398.964886  \n",
              "i      0.094703  0.000538  0.000455  0.642745  315.996723  \n",
              "r      0.607469  0.007618  0.038368  0.166543  731.101368  \n",
              "s      0.771628  0.160757  0.222489  0.376976  327.968466  "
            ],
            "text/html": [
              "\n",
              "  <div id=\"df-c9685e3c-37b0-4fcf-a7fa-70b6314bb646\" class=\"colab-df-container\">\n",
              "    <div>\n",
              "<style scoped>\n",
              "    .dataframe tbody tr th:only-of-type {\n",
              "        vertical-align: middle;\n",
              "    }\n",
              "\n",
              "    .dataframe tbody tr th {\n",
              "        vertical-align: top;\n",
              "    }\n",
              "\n",
              "    .dataframe thead th {\n",
              "        text-align: right;\n",
              "    }\n",
              "</style>\n",
              "<table border=\"1\" class=\"dataframe\">\n",
              "  <thead>\n",
              "    <tr style=\"text-align: right;\">\n",
              "      <th></th>\n",
              "      <th>pos</th>\n",
              "      <th>flw</th>\n",
              "      <th>flg</th>\n",
              "      <th>bl</th>\n",
              "      <th>pic</th>\n",
              "      <th>lin</th>\n",
              "      <th>cl</th>\n",
              "      <th>cz</th>\n",
              "      <th>ni</th>\n",
              "      <th>erl</th>\n",
              "      <th>erc</th>\n",
              "      <th>lt</th>\n",
              "      <th>hc</th>\n",
              "      <th>pr</th>\n",
              "      <th>fo</th>\n",
              "      <th>cs</th>\n",
              "      <th>pi</th>\n",
              "    </tr>\n",
              "    <tr>\n",
              "      <th>class</th>\n",
              "      <th></th>\n",
              "      <th></th>\n",
              "      <th></th>\n",
              "      <th></th>\n",
              "      <th></th>\n",
              "      <th></th>\n",
              "      <th></th>\n",
              "      <th></th>\n",
              "      <th></th>\n",
              "      <th></th>\n",
              "      <th></th>\n",
              "      <th></th>\n",
              "      <th></th>\n",
              "      <th></th>\n",
              "      <th></th>\n",
              "      <th></th>\n",
              "      <th></th>\n",
              "    </tr>\n",
              "  </thead>\n",
              "  <tbody>\n",
              "    <tr>\n",
              "      <th>a</th>\n",
              "      <td>186.029783</td>\n",
              "      <td>829.537415</td>\n",
              "      <td>3142.127841</td>\n",
              "      <td>51.124191</td>\n",
              "      <td>0.989879</td>\n",
              "      <td>0.149411</td>\n",
              "      <td>117.739340</td>\n",
              "      <td>0.298200</td>\n",
              "      <td>0.224027</td>\n",
              "      <td>9.857296</td>\n",
              "      <td>0.443634</td>\n",
              "      <td>0.170699</td>\n",
              "      <td>0.348703</td>\n",
              "      <td>0.014297</td>\n",
              "      <td>0.008579</td>\n",
              "      <td>0.222825</td>\n",
              "      <td>398.964886</td>\n",
              "    </tr>\n",
              "    <tr>\n",
              "      <th>i</th>\n",
              "      <td>1.808039</td>\n",
              "      <td>215.714286</td>\n",
              "      <td>3816.522040</td>\n",
              "      <td>12.475874</td>\n",
              "      <td>0.765475</td>\n",
              "      <td>0.030619</td>\n",
              "      <td>11.705754</td>\n",
              "      <td>0.341568</td>\n",
              "      <td>0.056839</td>\n",
              "      <td>38.205265</td>\n",
              "      <td>1.859623</td>\n",
              "      <td>0.047118</td>\n",
              "      <td>0.094703</td>\n",
              "      <td>0.000538</td>\n",
              "      <td>0.000455</td>\n",
              "      <td>0.642745</td>\n",
              "      <td>315.996723</td>\n",
              "    </tr>\n",
              "    <tr>\n",
              "      <th>r</th>\n",
              "      <td>123.945216</td>\n",
              "      <td>1193.708074</td>\n",
              "      <td>1204.079782</td>\n",
              "      <td>61.882578</td>\n",
              "      <td>0.986208</td>\n",
              "      <td>0.221626</td>\n",
              "      <td>120.678575</td>\n",
              "      <td>0.205862</td>\n",
              "      <td>0.284415</td>\n",
              "      <td>20.570575</td>\n",
              "      <td>1.533438</td>\n",
              "      <td>0.344712</td>\n",
              "      <td>0.607469</td>\n",
              "      <td>0.007618</td>\n",
              "      <td>0.038368</td>\n",
              "      <td>0.166543</td>\n",
              "      <td>731.101368</td>\n",
              "    </tr>\n",
              "    <tr>\n",
              "      <th>s</th>\n",
              "      <td>297.279061</td>\n",
              "      <td>1081.285784</td>\n",
              "      <td>3052.569424</td>\n",
              "      <td>59.392770</td>\n",
              "      <td>0.982754</td>\n",
              "      <td>0.168664</td>\n",
              "      <td>236.939199</td>\n",
              "      <td>0.318858</td>\n",
              "      <td>0.167274</td>\n",
              "      <td>14.328240</td>\n",
              "      <td>0.722252</td>\n",
              "      <td>0.113904</td>\n",
              "      <td>0.771628</td>\n",
              "      <td>0.160757</td>\n",
              "      <td>0.222489</td>\n",
              "      <td>0.376976</td>\n",
              "      <td>327.968466</td>\n",
              "    </tr>\n",
              "  </tbody>\n",
              "</table>\n",
              "</div>\n",
              "    <div class=\"colab-df-buttons\">\n",
              "\n",
              "  <div class=\"colab-df-container\">\n",
              "    <button class=\"colab-df-convert\" onclick=\"convertToInteractive('df-c9685e3c-37b0-4fcf-a7fa-70b6314bb646')\"\n",
              "            title=\"Convert this dataframe to an interactive table.\"\n",
              "            style=\"display:none;\">\n",
              "\n",
              "  <svg xmlns=\"http://www.w3.org/2000/svg\" height=\"24px\" viewBox=\"0 -960 960 960\">\n",
              "    <path d=\"M120-120v-720h720v720H120Zm60-500h600v-160H180v160Zm220 220h160v-160H400v160Zm0 220h160v-160H400v160ZM180-400h160v-160H180v160Zm440 0h160v-160H620v160ZM180-180h160v-160H180v160Zm440 0h160v-160H620v160Z\"/>\n",
              "  </svg>\n",
              "    </button>\n",
              "\n",
              "  <style>\n",
              "    .colab-df-container {\n",
              "      display:flex;\n",
              "      gap: 12px;\n",
              "    }\n",
              "\n",
              "    .colab-df-convert {\n",
              "      background-color: #E8F0FE;\n",
              "      border: none;\n",
              "      border-radius: 50%;\n",
              "      cursor: pointer;\n",
              "      display: none;\n",
              "      fill: #1967D2;\n",
              "      height: 32px;\n",
              "      padding: 0 0 0 0;\n",
              "      width: 32px;\n",
              "    }\n",
              "\n",
              "    .colab-df-convert:hover {\n",
              "      background-color: #E2EBFA;\n",
              "      box-shadow: 0px 1px 2px rgba(60, 64, 67, 0.3), 0px 1px 3px 1px rgba(60, 64, 67, 0.15);\n",
              "      fill: #174EA6;\n",
              "    }\n",
              "\n",
              "    .colab-df-buttons div {\n",
              "      margin-bottom: 4px;\n",
              "    }\n",
              "\n",
              "    [theme=dark] .colab-df-convert {\n",
              "      background-color: #3B4455;\n",
              "      fill: #D2E3FC;\n",
              "    }\n",
              "\n",
              "    [theme=dark] .colab-df-convert:hover {\n",
              "      background-color: #434B5C;\n",
              "      box-shadow: 0px 1px 3px 1px rgba(0, 0, 0, 0.15);\n",
              "      filter: drop-shadow(0px 1px 2px rgba(0, 0, 0, 0.3));\n",
              "      fill: #FFFFFF;\n",
              "    }\n",
              "  </style>\n",
              "\n",
              "    <script>\n",
              "      const buttonEl =\n",
              "        document.querySelector('#df-c9685e3c-37b0-4fcf-a7fa-70b6314bb646 button.colab-df-convert');\n",
              "      buttonEl.style.display =\n",
              "        google.colab.kernel.accessAllowed ? 'block' : 'none';\n",
              "\n",
              "      async function convertToInteractive(key) {\n",
              "        const element = document.querySelector('#df-c9685e3c-37b0-4fcf-a7fa-70b6314bb646');\n",
              "        const dataTable =\n",
              "          await google.colab.kernel.invokeFunction('convertToInteractive',\n",
              "                                                    [key], {});\n",
              "        if (!dataTable) return;\n",
              "\n",
              "        const docLinkHtml = 'Like what you see? Visit the ' +\n",
              "          '<a target=\"_blank\" href=https://colab.research.google.com/notebooks/data_table.ipynb>data table notebook</a>'\n",
              "          + ' to learn more about interactive tables.';\n",
              "        element.innerHTML = '';\n",
              "        dataTable['output_type'] = 'display_data';\n",
              "        await google.colab.output.renderOutput(dataTable, element);\n",
              "        const docLink = document.createElement('div');\n",
              "        docLink.innerHTML = docLinkHtml;\n",
              "        element.appendChild(docLink);\n",
              "      }\n",
              "    </script>\n",
              "  </div>\n",
              "\n",
              "\n",
              "<div id=\"df-7a793335-8b2c-414c-b981-38f6fd9bf780\">\n",
              "  <button class=\"colab-df-quickchart\" onclick=\"quickchart('df-7a793335-8b2c-414c-b981-38f6fd9bf780')\"\n",
              "            title=\"Suggest charts\"\n",
              "            style=\"display:none;\">\n",
              "\n",
              "<svg xmlns=\"http://www.w3.org/2000/svg\" height=\"24px\"viewBox=\"0 0 24 24\"\n",
              "     width=\"24px\">\n",
              "    <g>\n",
              "        <path d=\"M19 3H5c-1.1 0-2 .9-2 2v14c0 1.1.9 2 2 2h14c1.1 0 2-.9 2-2V5c0-1.1-.9-2-2-2zM9 17H7v-7h2v7zm4 0h-2V7h2v10zm4 0h-2v-4h2v4z\"/>\n",
              "    </g>\n",
              "</svg>\n",
              "  </button>\n",
              "\n",
              "<style>\n",
              "  .colab-df-quickchart {\n",
              "      --bg-color: #E8F0FE;\n",
              "      --fill-color: #1967D2;\n",
              "      --hover-bg-color: #E2EBFA;\n",
              "      --hover-fill-color: #174EA6;\n",
              "      --disabled-fill-color: #AAA;\n",
              "      --disabled-bg-color: #DDD;\n",
              "  }\n",
              "\n",
              "  [theme=dark] .colab-df-quickchart {\n",
              "      --bg-color: #3B4455;\n",
              "      --fill-color: #D2E3FC;\n",
              "      --hover-bg-color: #434B5C;\n",
              "      --hover-fill-color: #FFFFFF;\n",
              "      --disabled-bg-color: #3B4455;\n",
              "      --disabled-fill-color: #666;\n",
              "  }\n",
              "\n",
              "  .colab-df-quickchart {\n",
              "    background-color: var(--bg-color);\n",
              "    border: none;\n",
              "    border-radius: 50%;\n",
              "    cursor: pointer;\n",
              "    display: none;\n",
              "    fill: var(--fill-color);\n",
              "    height: 32px;\n",
              "    padding: 0;\n",
              "    width: 32px;\n",
              "  }\n",
              "\n",
              "  .colab-df-quickchart:hover {\n",
              "    background-color: var(--hover-bg-color);\n",
              "    box-shadow: 0 1px 2px rgba(60, 64, 67, 0.3), 0 1px 3px 1px rgba(60, 64, 67, 0.15);\n",
              "    fill: var(--button-hover-fill-color);\n",
              "  }\n",
              "\n",
              "  .colab-df-quickchart-complete:disabled,\n",
              "  .colab-df-quickchart-complete:disabled:hover {\n",
              "    background-color: var(--disabled-bg-color);\n",
              "    fill: var(--disabled-fill-color);\n",
              "    box-shadow: none;\n",
              "  }\n",
              "\n",
              "  .colab-df-spinner {\n",
              "    border: 2px solid var(--fill-color);\n",
              "    border-color: transparent;\n",
              "    border-bottom-color: var(--fill-color);\n",
              "    animation:\n",
              "      spin 1s steps(1) infinite;\n",
              "  }\n",
              "\n",
              "  @keyframes spin {\n",
              "    0% {\n",
              "      border-color: transparent;\n",
              "      border-bottom-color: var(--fill-color);\n",
              "      border-left-color: var(--fill-color);\n",
              "    }\n",
              "    20% {\n",
              "      border-color: transparent;\n",
              "      border-left-color: var(--fill-color);\n",
              "      border-top-color: var(--fill-color);\n",
              "    }\n",
              "    30% {\n",
              "      border-color: transparent;\n",
              "      border-left-color: var(--fill-color);\n",
              "      border-top-color: var(--fill-color);\n",
              "      border-right-color: var(--fill-color);\n",
              "    }\n",
              "    40% {\n",
              "      border-color: transparent;\n",
              "      border-right-color: var(--fill-color);\n",
              "      border-top-color: var(--fill-color);\n",
              "    }\n",
              "    60% {\n",
              "      border-color: transparent;\n",
              "      border-right-color: var(--fill-color);\n",
              "    }\n",
              "    80% {\n",
              "      border-color: transparent;\n",
              "      border-right-color: var(--fill-color);\n",
              "      border-bottom-color: var(--fill-color);\n",
              "    }\n",
              "    90% {\n",
              "      border-color: transparent;\n",
              "      border-bottom-color: var(--fill-color);\n",
              "    }\n",
              "  }\n",
              "</style>\n",
              "\n",
              "  <script>\n",
              "    async function quickchart(key) {\n",
              "      const quickchartButtonEl =\n",
              "        document.querySelector('#' + key + ' button');\n",
              "      quickchartButtonEl.disabled = true;  // To prevent multiple clicks.\n",
              "      quickchartButtonEl.classList.add('colab-df-spinner');\n",
              "      try {\n",
              "        const charts = await google.colab.kernel.invokeFunction(\n",
              "            'suggestCharts', [key], {});\n",
              "      } catch (error) {\n",
              "        console.error('Error during call to suggestCharts:', error);\n",
              "      }\n",
              "      quickchartButtonEl.classList.remove('colab-df-spinner');\n",
              "      quickchartButtonEl.classList.add('colab-df-quickchart-complete');\n",
              "    }\n",
              "    (() => {\n",
              "      let quickchartButtonEl =\n",
              "        document.querySelector('#df-7a793335-8b2c-414c-b981-38f6fd9bf780 button');\n",
              "      quickchartButtonEl.style.display =\n",
              "        google.colab.kernel.accessAllowed ? 'block' : 'none';\n",
              "    })();\n",
              "  </script>\n",
              "</div>\n",
              "    </div>\n",
              "  </div>\n"
            ]
          },
          "metadata": {},
          "execution_count": 62
        }
      ]
    },
    {
      "cell_type": "markdown",
      "metadata": {
        "id": "LRQHiZxjTZYh"
      },
      "source": [
        "#Test Train Split for classification 1\n"
      ]
    },
    {
      "cell_type": "code",
      "execution_count": null,
      "metadata": {
        "id": "8QUwUthWTzvG"
      },
      "outputs": [],
      "source": [
        "import pandas as pd\n",
        "from sklearn.model_selection import train_test_split\n",
        "from sklearn.ensemble import RandomForestClassifier\n",
        "from sklearn.metrics import accuracy_score, classification_report"
      ]
    },
    {
      "cell_type": "code",
      "execution_count": null,
      "metadata": {
        "id": "lU0UwIxcTAsM"
      },
      "outputs": [],
      "source": [
        "X1 = df1.drop('class', axis=1)"
      ]
    },
    {
      "cell_type": "code",
      "execution_count": null,
      "metadata": {
        "id": "QdytbDSQQglA"
      },
      "outputs": [],
      "source": [
        "Y1=df1['class']"
      ]
    },
    {
      "cell_type": "code",
      "execution_count": null,
      "metadata": {
        "id": "Odwe_lw1UHpD",
        "colab": {
          "base_uri": "https://localhost:8080/"
        },
        "outputId": "38290500-4a58-494b-d3aa-aed9ee617700"
      },
      "outputs": [
        {
          "output_type": "execute_result",
          "data": {
            "text/plain": [
              "pandas.core.frame.DataFrame"
            ]
          },
          "metadata": {},
          "execution_count": 17
        }
      ],
      "source": [
        "type(X1)"
      ]
    },
    {
      "cell_type": "code",
      "execution_count": null,
      "metadata": {
        "id": "K1dicpf4VBJ-"
      },
      "outputs": [],
      "source": [
        "X1_train,X1_test,Y1_train,Y1_test=train_test_split(X1,Y1,test_size=0.2,stratify=Y1,random_state=42)"
      ]
    },
    {
      "cell_type": "code",
      "execution_count": null,
      "metadata": {
        "id": "cMT3_M_PUNqb",
        "colab": {
          "base_uri": "https://localhost:8080/"
        },
        "outputId": "171e97ef-14fa-487f-96b3-dd62969fcfef"
      },
      "outputs": [
        {
          "output_type": "stream",
          "name": "stdout",
          "text": [
            "(52260, 17) (13066, 17) (65326, 17)\n"
          ]
        }
      ],
      "source": [
        "print(X1_train.shape,X1_test.shape,X1.shape)"
      ]
    },
    {
      "cell_type": "code",
      "execution_count": null,
      "metadata": {
        "id": "SSGYuvkwUoaV",
        "colab": {
          "base_uri": "https://localhost:8080/"
        },
        "outputId": "a12167e6-c382-4a13-aec6-9f1750c8ab7e"
      },
      "outputs": [
        {
          "output_type": "stream",
          "name": "stdout",
          "text": [
            "(52260,) (13066,) (65326,)\n"
          ]
        }
      ],
      "source": [
        "print(Y1_train.shape,Y1_test.shape,Y1.shape)"
      ]
    },
    {
      "cell_type": "markdown",
      "metadata": {
        "id": "zHYhV2x8_3S6"
      },
      "source": [
        "#Test train split for classification 2"
      ]
    },
    {
      "cell_type": "code",
      "execution_count": null,
      "metadata": {
        "id": "2VQshM-S_7zS"
      },
      "outputs": [],
      "source": [
        "X2 = df2.drop('class', axis=1)"
      ]
    },
    {
      "cell_type": "code",
      "execution_count": null,
      "metadata": {
        "id": "8v_NFBUzAEQ0"
      },
      "outputs": [],
      "source": [
        "Y2=df2['class']"
      ]
    },
    {
      "cell_type": "code",
      "execution_count": null,
      "metadata": {
        "id": "EmlZdE1pAENO"
      },
      "outputs": [],
      "source": [
        "X2_train,X2_test,Y2_train,Y2_test=train_test_split(X2,Y2,test_size=0.2,stratify=Y2,random_state=42)"
      ]
    },
    {
      "cell_type": "code",
      "execution_count": null,
      "metadata": {
        "id": "bjvnMhO9AEK8",
        "colab": {
          "base_uri": "https://localhost:8080/"
        },
        "outputId": "780b91de-78ec-47ca-9cc6-2bbecd059ce1"
      },
      "outputs": [
        {
          "output_type": "stream",
          "name": "stdout",
          "text": [
            "(34645, 17) (8662, 17) (43307, 17)\n"
          ]
        }
      ],
      "source": [
        "print(X2_train.shape,X2_test.shape,X2.shape)"
      ]
    },
    {
      "cell_type": "code",
      "execution_count": null,
      "metadata": {
        "id": "WNILvNYnAEAr",
        "colab": {
          "base_uri": "https://localhost:8080/"
        },
        "outputId": "eae54498-9c39-4d8b-f90c-39c278390d27"
      },
      "outputs": [
        {
          "output_type": "stream",
          "name": "stdout",
          "text": [
            "(34645,) (8662,) (43307,)\n"
          ]
        }
      ],
      "source": [
        "print(Y2_train.shape,Y2_test.shape,Y2.shape)"
      ]
    },
    {
      "cell_type": "markdown",
      "metadata": {
        "id": "M9yeTa4n-Kur"
      },
      "source": [
        "#MODELS\n",
        "#1. Random Forest"
      ]
    },
    {
      "cell_type": "markdown",
      "metadata": {
        "id": "Iy7LyOt1W_qD"
      },
      "source": [
        "#Random Forest for classification 1"
      ]
    },
    {
      "cell_type": "code",
      "execution_count": null,
      "metadata": {
        "id": "UL32JnaHUVQx"
      },
      "outputs": [],
      "source": [
        "rf_classifier = RandomForestClassifier(n_estimators=100,max_depth=10, random_state=42)"
      ]
    },
    {
      "cell_type": "code",
      "execution_count": null,
      "metadata": {
        "id": "GOpf6TJtV2Yp",
        "colab": {
          "base_uri": "https://localhost:8080/",
          "height": 74
        },
        "outputId": "a07186b6-5e62-4689-fb80-6642bf4270e8"
      },
      "outputs": [
        {
          "output_type": "execute_result",
          "data": {
            "text/plain": [
              "RandomForestClassifier(max_depth=10, random_state=42)"
            ],
            "text/html": [
              "<style>#sk-container-id-1 {color: black;background-color: white;}#sk-container-id-1 pre{padding: 0;}#sk-container-id-1 div.sk-toggleable {background-color: white;}#sk-container-id-1 label.sk-toggleable__label {cursor: pointer;display: block;width: 100%;margin-bottom: 0;padding: 0.3em;box-sizing: border-box;text-align: center;}#sk-container-id-1 label.sk-toggleable__label-arrow:before {content: \"▸\";float: left;margin-right: 0.25em;color: #696969;}#sk-container-id-1 label.sk-toggleable__label-arrow:hover:before {color: black;}#sk-container-id-1 div.sk-estimator:hover label.sk-toggleable__label-arrow:before {color: black;}#sk-container-id-1 div.sk-toggleable__content {max-height: 0;max-width: 0;overflow: hidden;text-align: left;background-color: #f0f8ff;}#sk-container-id-1 div.sk-toggleable__content pre {margin: 0.2em;color: black;border-radius: 0.25em;background-color: #f0f8ff;}#sk-container-id-1 input.sk-toggleable__control:checked~div.sk-toggleable__content {max-height: 200px;max-width: 100%;overflow: auto;}#sk-container-id-1 input.sk-toggleable__control:checked~label.sk-toggleable__label-arrow:before {content: \"▾\";}#sk-container-id-1 div.sk-estimator input.sk-toggleable__control:checked~label.sk-toggleable__label {background-color: #d4ebff;}#sk-container-id-1 div.sk-label input.sk-toggleable__control:checked~label.sk-toggleable__label {background-color: #d4ebff;}#sk-container-id-1 input.sk-hidden--visually {border: 0;clip: rect(1px 1px 1px 1px);clip: rect(1px, 1px, 1px, 1px);height: 1px;margin: -1px;overflow: hidden;padding: 0;position: absolute;width: 1px;}#sk-container-id-1 div.sk-estimator {font-family: monospace;background-color: #f0f8ff;border: 1px dotted black;border-radius: 0.25em;box-sizing: border-box;margin-bottom: 0.5em;}#sk-container-id-1 div.sk-estimator:hover {background-color: #d4ebff;}#sk-container-id-1 div.sk-parallel-item::after {content: \"\";width: 100%;border-bottom: 1px solid gray;flex-grow: 1;}#sk-container-id-1 div.sk-label:hover label.sk-toggleable__label {background-color: #d4ebff;}#sk-container-id-1 div.sk-serial::before {content: \"\";position: absolute;border-left: 1px solid gray;box-sizing: border-box;top: 0;bottom: 0;left: 50%;z-index: 0;}#sk-container-id-1 div.sk-serial {display: flex;flex-direction: column;align-items: center;background-color: white;padding-right: 0.2em;padding-left: 0.2em;position: relative;}#sk-container-id-1 div.sk-item {position: relative;z-index: 1;}#sk-container-id-1 div.sk-parallel {display: flex;align-items: stretch;justify-content: center;background-color: white;position: relative;}#sk-container-id-1 div.sk-item::before, #sk-container-id-1 div.sk-parallel-item::before {content: \"\";position: absolute;border-left: 1px solid gray;box-sizing: border-box;top: 0;bottom: 0;left: 50%;z-index: -1;}#sk-container-id-1 div.sk-parallel-item {display: flex;flex-direction: column;z-index: 1;position: relative;background-color: white;}#sk-container-id-1 div.sk-parallel-item:first-child::after {align-self: flex-end;width: 50%;}#sk-container-id-1 div.sk-parallel-item:last-child::after {align-self: flex-start;width: 50%;}#sk-container-id-1 div.sk-parallel-item:only-child::after {width: 0;}#sk-container-id-1 div.sk-dashed-wrapped {border: 1px dashed gray;margin: 0 0.4em 0.5em 0.4em;box-sizing: border-box;padding-bottom: 0.4em;background-color: white;}#sk-container-id-1 div.sk-label label {font-family: monospace;font-weight: bold;display: inline-block;line-height: 1.2em;}#sk-container-id-1 div.sk-label-container {text-align: center;}#sk-container-id-1 div.sk-container {/* jupyter's `normalize.less` sets `[hidden] { display: none; }` but bootstrap.min.css set `[hidden] { display: none !important; }` so we also need the `!important` here to be able to override the default hidden behavior on the sphinx rendered scikit-learn.org. See: https://github.com/scikit-learn/scikit-learn/issues/21755 */display: inline-block !important;position: relative;}#sk-container-id-1 div.sk-text-repr-fallback {display: none;}</style><div id=\"sk-container-id-1\" class=\"sk-top-container\"><div class=\"sk-text-repr-fallback\"><pre>RandomForestClassifier(max_depth=10, random_state=42)</pre><b>In a Jupyter environment, please rerun this cell to show the HTML representation or trust the notebook. <br />On GitHub, the HTML representation is unable to render, please try loading this page with nbviewer.org.</b></div><div class=\"sk-container\" hidden><div class=\"sk-item\"><div class=\"sk-estimator sk-toggleable\"><input class=\"sk-toggleable__control sk-hidden--visually\" id=\"sk-estimator-id-1\" type=\"checkbox\" checked><label for=\"sk-estimator-id-1\" class=\"sk-toggleable__label sk-toggleable__label-arrow\">RandomForestClassifier</label><div class=\"sk-toggleable__content\"><pre>RandomForestClassifier(max_depth=10, random_state=42)</pre></div></div></div></div></div>"
            ]
          },
          "metadata": {},
          "execution_count": 27
        }
      ],
      "source": [
        "rf_classifier.fit(X1_train, Y1_train)"
      ]
    },
    {
      "cell_type": "code",
      "execution_count": null,
      "metadata": {
        "id": "bPBkxtHeV9qo"
      },
      "outputs": [],
      "source": [
        "y_train_pred = rf_classifier.predict(X1_train)"
      ]
    },
    {
      "cell_type": "code",
      "execution_count": null,
      "metadata": {
        "id": "kKPw0nHUXnPC"
      },
      "outputs": [],
      "source": [
        "y_test_pred = rf_classifier.predict(X1_test)"
      ]
    },
    {
      "cell_type": "code",
      "execution_count": null,
      "metadata": {
        "id": "X0mQlodAXzkw"
      },
      "outputs": [],
      "source": [
        "accuracy_train = accuracy_score(Y1_train, y_train_pred)\n",
        "accuracy_test = accuracy_score(Y1_test, y_test_pred)"
      ]
    },
    {
      "cell_type": "code",
      "execution_count": null,
      "metadata": {
        "id": "0U6aWqpxWGRo",
        "colab": {
          "base_uri": "https://localhost:8080/"
        },
        "outputId": "3234bbea-59c7-4867-d093-2a03151fc84b"
      },
      "outputs": [
        {
          "output_type": "stream",
          "name": "stdout",
          "text": [
            "Training Accuracy: 90.65\n",
            "Testing Accuracy: 89.63\n"
          ]
        }
      ],
      "source": [
        "print(f'Training Accuracy: {accuracy_train*100:.2f}')\n",
        "print(f'Testing Accuracy: {accuracy_test*100:.2f}')"
      ]
    },
    {
      "cell_type": "code",
      "execution_count": null,
      "metadata": {
        "id": "KEh47IwhYPyL",
        "colab": {
          "base_uri": "https://localhost:8080/"
        },
        "outputId": "87be5143-1e58-4e41-a6c8-10c9542ddc5f"
      },
      "outputs": [
        {
          "output_type": "stream",
          "name": "stdout",
          "text": [
            "              precision    recall  f1-score   support\n",
            "\n",
            "           f       0.97      0.82      0.89      6574\n",
            "           r       0.84      0.98      0.90      6492\n",
            "\n",
            "    accuracy                           0.90     13066\n",
            "   macro avg       0.91      0.90      0.90     13066\n",
            "weighted avg       0.91      0.90      0.90     13066\n",
            "\n"
          ]
        }
      ],
      "source": [
        "print(classification_report(Y1_test, y_test_pred))"
      ]
    },
    {
      "cell_type": "markdown",
      "metadata": {
        "id": "x2BwfSLG-_Rx"
      },
      "source": [
        "#Random Forest for classification 2"
      ]
    },
    {
      "cell_type": "code",
      "execution_count": null,
      "metadata": {
        "id": "JdLNLaF7ADuG"
      },
      "outputs": [],
      "source": [
        "rf_classifier2 = RandomForestClassifier(n_estimators=100,max_depth=10, random_state=42)"
      ]
    },
    {
      "cell_type": "code",
      "execution_count": null,
      "metadata": {
        "id": "_MVYdrXN-l8o",
        "colab": {
          "base_uri": "https://localhost:8080/",
          "height": 74
        },
        "outputId": "d90be9a1-09c7-4980-d54a-15d377151145"
      },
      "outputs": [
        {
          "output_type": "execute_result",
          "data": {
            "text/plain": [
              "RandomForestClassifier(max_depth=10, random_state=42)"
            ],
            "text/html": [
              "<style>#sk-container-id-2 {color: black;background-color: white;}#sk-container-id-2 pre{padding: 0;}#sk-container-id-2 div.sk-toggleable {background-color: white;}#sk-container-id-2 label.sk-toggleable__label {cursor: pointer;display: block;width: 100%;margin-bottom: 0;padding: 0.3em;box-sizing: border-box;text-align: center;}#sk-container-id-2 label.sk-toggleable__label-arrow:before {content: \"▸\";float: left;margin-right: 0.25em;color: #696969;}#sk-container-id-2 label.sk-toggleable__label-arrow:hover:before {color: black;}#sk-container-id-2 div.sk-estimator:hover label.sk-toggleable__label-arrow:before {color: black;}#sk-container-id-2 div.sk-toggleable__content {max-height: 0;max-width: 0;overflow: hidden;text-align: left;background-color: #f0f8ff;}#sk-container-id-2 div.sk-toggleable__content pre {margin: 0.2em;color: black;border-radius: 0.25em;background-color: #f0f8ff;}#sk-container-id-2 input.sk-toggleable__control:checked~div.sk-toggleable__content {max-height: 200px;max-width: 100%;overflow: auto;}#sk-container-id-2 input.sk-toggleable__control:checked~label.sk-toggleable__label-arrow:before {content: \"▾\";}#sk-container-id-2 div.sk-estimator input.sk-toggleable__control:checked~label.sk-toggleable__label {background-color: #d4ebff;}#sk-container-id-2 div.sk-label input.sk-toggleable__control:checked~label.sk-toggleable__label {background-color: #d4ebff;}#sk-container-id-2 input.sk-hidden--visually {border: 0;clip: rect(1px 1px 1px 1px);clip: rect(1px, 1px, 1px, 1px);height: 1px;margin: -1px;overflow: hidden;padding: 0;position: absolute;width: 1px;}#sk-container-id-2 div.sk-estimator {font-family: monospace;background-color: #f0f8ff;border: 1px dotted black;border-radius: 0.25em;box-sizing: border-box;margin-bottom: 0.5em;}#sk-container-id-2 div.sk-estimator:hover {background-color: #d4ebff;}#sk-container-id-2 div.sk-parallel-item::after {content: \"\";width: 100%;border-bottom: 1px solid gray;flex-grow: 1;}#sk-container-id-2 div.sk-label:hover label.sk-toggleable__label {background-color: #d4ebff;}#sk-container-id-2 div.sk-serial::before {content: \"\";position: absolute;border-left: 1px solid gray;box-sizing: border-box;top: 0;bottom: 0;left: 50%;z-index: 0;}#sk-container-id-2 div.sk-serial {display: flex;flex-direction: column;align-items: center;background-color: white;padding-right: 0.2em;padding-left: 0.2em;position: relative;}#sk-container-id-2 div.sk-item {position: relative;z-index: 1;}#sk-container-id-2 div.sk-parallel {display: flex;align-items: stretch;justify-content: center;background-color: white;position: relative;}#sk-container-id-2 div.sk-item::before, #sk-container-id-2 div.sk-parallel-item::before {content: \"\";position: absolute;border-left: 1px solid gray;box-sizing: border-box;top: 0;bottom: 0;left: 50%;z-index: -1;}#sk-container-id-2 div.sk-parallel-item {display: flex;flex-direction: column;z-index: 1;position: relative;background-color: white;}#sk-container-id-2 div.sk-parallel-item:first-child::after {align-self: flex-end;width: 50%;}#sk-container-id-2 div.sk-parallel-item:last-child::after {align-self: flex-start;width: 50%;}#sk-container-id-2 div.sk-parallel-item:only-child::after {width: 0;}#sk-container-id-2 div.sk-dashed-wrapped {border: 1px dashed gray;margin: 0 0.4em 0.5em 0.4em;box-sizing: border-box;padding-bottom: 0.4em;background-color: white;}#sk-container-id-2 div.sk-label label {font-family: monospace;font-weight: bold;display: inline-block;line-height: 1.2em;}#sk-container-id-2 div.sk-label-container {text-align: center;}#sk-container-id-2 div.sk-container {/* jupyter's `normalize.less` sets `[hidden] { display: none; }` but bootstrap.min.css set `[hidden] { display: none !important; }` so we also need the `!important` here to be able to override the default hidden behavior on the sphinx rendered scikit-learn.org. See: https://github.com/scikit-learn/scikit-learn/issues/21755 */display: inline-block !important;position: relative;}#sk-container-id-2 div.sk-text-repr-fallback {display: none;}</style><div id=\"sk-container-id-2\" class=\"sk-top-container\"><div class=\"sk-text-repr-fallback\"><pre>RandomForestClassifier(max_depth=10, random_state=42)</pre><b>In a Jupyter environment, please rerun this cell to show the HTML representation or trust the notebook. <br />On GitHub, the HTML representation is unable to render, please try loading this page with nbviewer.org.</b></div><div class=\"sk-container\" hidden><div class=\"sk-item\"><div class=\"sk-estimator sk-toggleable\"><input class=\"sk-toggleable__control sk-hidden--visually\" id=\"sk-estimator-id-2\" type=\"checkbox\" checked><label for=\"sk-estimator-id-2\" class=\"sk-toggleable__label sk-toggleable__label-arrow\">RandomForestClassifier</label><div class=\"sk-toggleable__content\"><pre>RandomForestClassifier(max_depth=10, random_state=42)</pre></div></div></div></div></div>"
            ]
          },
          "metadata": {},
          "execution_count": 34
        }
      ],
      "source": [
        "rf_classifier2.fit(X2_train, Y2_train)"
      ]
    },
    {
      "cell_type": "code",
      "execution_count": null,
      "metadata": {
        "id": "2te1iMWABQA6"
      },
      "outputs": [],
      "source": [
        "y_train_pred2 = rf_classifier2.predict(X2_train)"
      ]
    },
    {
      "cell_type": "code",
      "execution_count": null,
      "metadata": {
        "id": "5OECLfkHBYOw"
      },
      "outputs": [],
      "source": [
        "y_test_pred2 = rf_classifier2.predict(X2_test)"
      ]
    },
    {
      "cell_type": "code",
      "execution_count": null,
      "metadata": {
        "id": "kfL73d4wBhpJ"
      },
      "outputs": [],
      "source": [
        "accuracy_train = accuracy_score(Y2_train, y_train_pred2)\n",
        "accuracy_test = accuracy_score(Y2_test, y_test_pred2)"
      ]
    },
    {
      "cell_type": "code",
      "execution_count": null,
      "metadata": {
        "id": "4dac4xmqBoLA",
        "colab": {
          "base_uri": "https://localhost:8080/"
        },
        "outputId": "7db7fea3-23b2-414a-8335-903e36b87b8f"
      },
      "outputs": [
        {
          "output_type": "stream",
          "name": "stdout",
          "text": [
            "Training Accuracy: 91.06\n",
            "Testing Accuracy: 89.15\n"
          ]
        }
      ],
      "source": [
        "print(f'Training Accuracy: {accuracy_train*100:.2f}')\n",
        "print(f'Testing Accuracy: {accuracy_test*100:.2f}')"
      ]
    },
    {
      "cell_type": "code",
      "execution_count": null,
      "metadata": {
        "id": "_DffiZd8BsC8",
        "colab": {
          "base_uri": "https://localhost:8080/"
        },
        "outputId": "30c38a16-0f5b-440d-9c1e-78c2b0649033"
      },
      "outputs": [
        {
          "output_type": "stream",
          "name": "stdout",
          "text": [
            "              precision    recall  f1-score   support\n",
            "\n",
            "           a       0.90      0.91      0.91      2411\n",
            "           i       0.93      0.95      0.94      2110\n",
            "           r       0.82      0.73      0.77      2088\n",
            "           s       0.91      0.97      0.94      2053\n",
            "\n",
            "    accuracy                           0.89      8662\n",
            "   macro avg       0.89      0.89      0.89      8662\n",
            "weighted avg       0.89      0.89      0.89      8662\n",
            "\n"
          ]
        }
      ],
      "source": [
        "print(classification_report(Y2_test, y_test_pred2))"
      ]
    },
    {
      "cell_type": "markdown",
      "metadata": {
        "id": "g3jBoEnq-oMG"
      },
      "source": [
        "#2. KNN"
      ]
    },
    {
      "cell_type": "markdown",
      "metadata": {
        "id": "7OYs3d9CF8HK"
      },
      "source": [
        "#KNN for classification 1\n"
      ]
    },
    {
      "cell_type": "code",
      "execution_count": null,
      "metadata": {
        "id": "68W5wf6G_AKa",
        "colab": {
          "base_uri": "https://localhost:8080/"
        },
        "outputId": "b0a960ad-1afe-4641-d605-6f21f5ae2338"
      },
      "outputs": [
        {
          "output_type": "stream",
          "name": "stdout",
          "text": [
            "Training Accuracy: 85.52%\n",
            "Test Accuracy: 74.05%\n"
          ]
        }
      ],
      "source": [
        "knn_classifier = KNeighborsClassifier(n_neighbors=3)\n",
        "knn_classifier.fit(X1_train, Y1_train)\n",
        "y_train_pred = knn_classifier.predict(X1_train)\n",
        "train_accuracy_knn = accuracy_score(Y1_train, y_train_pred)\n",
        "print(f\"Training Accuracy: {train_accuracy_knn * 100:.2f}%\")\n",
        "y_test_pred_knn = knn_classifier.predict(X1_test)\n",
        "test_accuracy_knn = accuracy_score(Y1_test, y_test_pred_knn)\n",
        "print(f\"Test Accuracy: {test_accuracy_knn * 100:.2f}%\")"
      ]
    },
    {
      "cell_type": "code",
      "execution_count": null,
      "metadata": {
        "id": "mVqFlrusHypZ",
        "colab": {
          "base_uri": "https://localhost:8080/"
        },
        "outputId": "1a39d502-b2e1-448a-da64-0bbf1d3d3892"
      },
      "outputs": [
        {
          "output_type": "stream",
          "name": "stdout",
          "text": [
            "              precision    recall  f1-score   support\n",
            "\n",
            "           f       0.75      0.73      0.74      6574\n",
            "           r       0.73      0.75      0.74      6492\n",
            "\n",
            "    accuracy                           0.74     13066\n",
            "   macro avg       0.74      0.74      0.74     13066\n",
            "weighted avg       0.74      0.74      0.74     13066\n",
            "\n"
          ]
        }
      ],
      "source": [
        "print(classification_report(Y1_test, y_test_pred_knn))"
      ]
    },
    {
      "cell_type": "markdown",
      "metadata": {
        "id": "1St_gV_WGn9m"
      },
      "source": [
        "#KNN for classification 2"
      ]
    },
    {
      "cell_type": "code",
      "execution_count": null,
      "metadata": {
        "id": "HbVs1Nm5GsrZ",
        "colab": {
          "base_uri": "https://localhost:8080/"
        },
        "outputId": "a731d2e3-b955-45bd-ca7b-85501702f7c1"
      },
      "outputs": [
        {
          "output_type": "stream",
          "name": "stdout",
          "text": [
            "Training Accuracy: 74.05%\n",
            "Test Accuracy: 55.10%\n"
          ]
        }
      ],
      "source": [
        "knn_classifier = KNeighborsClassifier(n_neighbors=3)\n",
        "knn_classifier.fit(X2_train, Y2_train)\n",
        "y_train_pred = knn_classifier.predict(X2_train)\n",
        "train_accuracy_knn = accuracy_score(Y2_train, y_train_pred)\n",
        "print(f\"Training Accuracy: {train_accuracy_knn * 100:.2f}%\")\n",
        "y_test_pred_knn = knn_classifier.predict(X2_test)\n",
        "test_accuracy_knn = accuracy_score(Y2_test, y_test_pred_knn)\n",
        "print(f\"Test Accuracy: {test_accuracy_knn * 100:.2f}%\")"
      ]
    },
    {
      "cell_type": "code",
      "execution_count": null,
      "metadata": {
        "id": "PDZo9yy5IR8J",
        "colab": {
          "base_uri": "https://localhost:8080/"
        },
        "outputId": "c6910085-a8cc-4a7d-84d0-e7a2cbbab619"
      },
      "outputs": [
        {
          "output_type": "stream",
          "name": "stdout",
          "text": [
            "              precision    recall  f1-score   support\n",
            "\n",
            "           a       0.44      0.59      0.50      2411\n",
            "           i       0.75      0.78      0.76      2110\n",
            "           r       0.59      0.50      0.54      2088\n",
            "           s       0.45      0.33      0.38      2053\n",
            "\n",
            "    accuracy                           0.55      8662\n",
            "   macro avg       0.56      0.55      0.55      8662\n",
            "weighted avg       0.56      0.55      0.55      8662\n",
            "\n"
          ]
        }
      ],
      "source": [
        "print(classification_report(Y2_test, y_test_pred_knn))"
      ]
    },
    {
      "cell_type": "markdown",
      "metadata": {
        "id": "5gqMy9O3-zHD"
      },
      "source": [
        "#3. SVM"
      ]
    },
    {
      "cell_type": "markdown",
      "metadata": {
        "id": "SixSOeMQRbKE"
      },
      "source": [
        "#SVM for classification 1"
      ]
    },
    {
      "cell_type": "code",
      "execution_count": null,
      "metadata": {
        "id": "3d2lLR4MRuZv"
      },
      "outputs": [],
      "source": [
        "from sklearn import svm"
      ]
    },
    {
      "cell_type": "code",
      "execution_count": null,
      "metadata": {
        "id": "CRS303QdIjuE"
      },
      "outputs": [],
      "source": [
        "rbf = svm.SVC(kernel='rbf', gamma=0.5, C=0.1).fit(X1_train, Y1_train)\n",
        "poly = svm.SVC(kernel='poly', degree=3, C=1).fit(X1_train, Y1_train)"
      ]
    },
    {
      "cell_type": "code",
      "execution_count": null,
      "metadata": {
        "id": "Wti1sZNuR29f"
      },
      "outputs": [],
      "source": [
        "poly_pred = poly.predict(X1_test)\n",
        "rbf_pred = rbf.predict(X1_test)"
      ]
    },
    {
      "cell_type": "code",
      "execution_count": null,
      "metadata": {
        "id": "WGLuS501R7R2",
        "colab": {
          "base_uri": "https://localhost:8080/"
        },
        "outputId": "6341cc31-35db-4b6c-9b44-f46359c0b1e7"
      },
      "outputs": [
        {
          "output_type": "stream",
          "name": "stdout",
          "text": [
            "Accuracy (Polynomial Kernel):  63.95\n",
            "F1 (Polynomial Kernel):  60.09\n"
          ]
        }
      ],
      "source": [
        "poly_accuracy = accuracy_score(Y1_test, poly_pred)\n",
        "poly_f1 = f1_score(Y1_test, poly_pred, average='weighted')\n",
        "print('Accuracy (Polynomial Kernel): ', \"%.2f\" % (poly_accuracy*100))\n",
        "print('F1 (Polynomial Kernel): ', \"%.2f\" % (poly_f1*100))"
      ]
    },
    {
      "cell_type": "code",
      "execution_count": null,
      "metadata": {
        "id": "NnTvIjCPR-0n",
        "colab": {
          "base_uri": "https://localhost:8080/"
        },
        "outputId": "2dc0bad3-9565-42a0-d394-83d2fcd60562"
      },
      "outputs": [
        {
          "output_type": "stream",
          "name": "stdout",
          "text": [
            "Accuracy (RBF Kernel):  53.83\n",
            "F1 (RBF Kernel):  41.59\n"
          ]
        }
      ],
      "source": [
        "rbf_accuracy = accuracy_score(Y1_test, rbf_pred)\n",
        "rbf_f1 = f1_score(Y1_test, rbf_pred, average='weighted')\n",
        "print('Accuracy (RBF Kernel): ', \"%.2f\" % (rbf_accuracy*100))\n",
        "print('F1 (RBF Kernel): ', \"%.2f\" % (rbf_f1*100))"
      ]
    },
    {
      "cell_type": "markdown",
      "metadata": {
        "id": "WK_pOHnyRiVf"
      },
      "source": [
        "#SVM for classfication 2"
      ]
    },
    {
      "cell_type": "code",
      "execution_count": null,
      "metadata": {
        "id": "etQEjj5QRmrC"
      },
      "outputs": [],
      "source": [
        "rbf = svm.SVC(kernel='rbf', gamma=0.5, C=0.1).fit(X2_train, Y2_train)\n",
        "poly = svm.SVC(kernel='poly', degree=3, C=1).fit(X2_train, Y2_train)"
      ]
    },
    {
      "cell_type": "code",
      "execution_count": null,
      "metadata": {
        "id": "ORZiaCNDVXHT"
      },
      "outputs": [],
      "source": [
        "poly_pred = poly.predict(X2_test)\n",
        "rbf_pred = rbf.predict(X2_test)"
      ]
    },
    {
      "cell_type": "code",
      "execution_count": null,
      "metadata": {
        "id": "MV4fQUH-VW7t",
        "colab": {
          "base_uri": "https://localhost:8080/"
        },
        "outputId": "c9475c3a-fc78-47d9-abcd-156667c3943d"
      },
      "outputs": [
        {
          "output_type": "stream",
          "name": "stdout",
          "text": [
            "Accuracy (Polynomial Kernel):  36.18\n",
            "F1 (Polynomial Kernel):  27.22\n"
          ]
        }
      ],
      "source": [
        "poly_accuracy = accuracy_score(Y2_test, poly_pred)\n",
        "poly_f1 = f1_score(Y2_test, poly_pred, average='weighted')\n",
        "print('Accuracy (Polynomial Kernel): ', \"%.2f\" % (poly_accuracy*100))\n",
        "print('F1 (Polynomial Kernel): ', \"%.2f\" % (poly_f1*100))"
      ]
    },
    {
      "cell_type": "code",
      "execution_count": null,
      "metadata": {
        "id": "CGMgBD4iVWt6",
        "colab": {
          "base_uri": "https://localhost:8080/"
        },
        "outputId": "db8ec220-7e46-4f6d-8553-36e60c1cdacd"
      },
      "outputs": [
        {
          "output_type": "stream",
          "name": "stdout",
          "text": [
            "Accuracy (RBF Kernel):  29.64\n",
            "F1 (RBF Kernel):  15.65\n"
          ]
        }
      ],
      "source": [
        "rbf_accuracy = accuracy_score(Y2_test, rbf_pred)\n",
        "rbf_f1 = f1_score(Y2_test, rbf_pred, average='weighted')\n",
        "print('Accuracy (RBF Kernel): ', \"%.2f\" % (rbf_accuracy*100))\n",
        "print('F1 (RBF Kernel): ', \"%.2f\" % (rbf_f1*100))"
      ]
    },
    {
      "cell_type": "markdown",
      "metadata": {
        "id": "Hm2wn0WN-ysF"
      },
      "source": [
        "#4. Decision Trees"
      ]
    },
    {
      "cell_type": "markdown",
      "metadata": {
        "id": "xhezLT1mDuTd"
      },
      "source": [
        "#Decision trees for classification 1"
      ]
    },
    {
      "cell_type": "code",
      "execution_count": null,
      "metadata": {
        "id": "ocXpmubsjCBh"
      },
      "outputs": [],
      "source": [
        "from sklearn import tree"
      ]
    },
    {
      "cell_type": "code",
      "source": [
        "md = 3\n",
        "print(\"Creating decision tree max_depth=\" + str(md))\n",
        "model1 = tree.DecisionTreeClassifier(max_depth=md)\n",
        "model1.fit(X1_train, Y1_train)"
      ],
      "metadata": {
        "colab": {
          "base_uri": "https://localhost:8080/",
          "height": 93
        },
        "id": "z4wIIHx8L44c",
        "outputId": "3d58385e-e737-4c77-b45f-d6b9a9d0a8d4"
      },
      "execution_count": null,
      "outputs": [
        {
          "output_type": "stream",
          "name": "stdout",
          "text": [
            "Creating decision tree max_depth=3\n"
          ]
        },
        {
          "output_type": "execute_result",
          "data": {
            "text/plain": [
              "DecisionTreeClassifier(max_depth=3)"
            ],
            "text/html": [
              "<style>#sk-container-id-3 {color: black;background-color: white;}#sk-container-id-3 pre{padding: 0;}#sk-container-id-3 div.sk-toggleable {background-color: white;}#sk-container-id-3 label.sk-toggleable__label {cursor: pointer;display: block;width: 100%;margin-bottom: 0;padding: 0.3em;box-sizing: border-box;text-align: center;}#sk-container-id-3 label.sk-toggleable__label-arrow:before {content: \"▸\";float: left;margin-right: 0.25em;color: #696969;}#sk-container-id-3 label.sk-toggleable__label-arrow:hover:before {color: black;}#sk-container-id-3 div.sk-estimator:hover label.sk-toggleable__label-arrow:before {color: black;}#sk-container-id-3 div.sk-toggleable__content {max-height: 0;max-width: 0;overflow: hidden;text-align: left;background-color: #f0f8ff;}#sk-container-id-3 div.sk-toggleable__content pre {margin: 0.2em;color: black;border-radius: 0.25em;background-color: #f0f8ff;}#sk-container-id-3 input.sk-toggleable__control:checked~div.sk-toggleable__content {max-height: 200px;max-width: 100%;overflow: auto;}#sk-container-id-3 input.sk-toggleable__control:checked~label.sk-toggleable__label-arrow:before {content: \"▾\";}#sk-container-id-3 div.sk-estimator input.sk-toggleable__control:checked~label.sk-toggleable__label {background-color: #d4ebff;}#sk-container-id-3 div.sk-label input.sk-toggleable__control:checked~label.sk-toggleable__label {background-color: #d4ebff;}#sk-container-id-3 input.sk-hidden--visually {border: 0;clip: rect(1px 1px 1px 1px);clip: rect(1px, 1px, 1px, 1px);height: 1px;margin: -1px;overflow: hidden;padding: 0;position: absolute;width: 1px;}#sk-container-id-3 div.sk-estimator {font-family: monospace;background-color: #f0f8ff;border: 1px dotted black;border-radius: 0.25em;box-sizing: border-box;margin-bottom: 0.5em;}#sk-container-id-3 div.sk-estimator:hover {background-color: #d4ebff;}#sk-container-id-3 div.sk-parallel-item::after {content: \"\";width: 100%;border-bottom: 1px solid gray;flex-grow: 1;}#sk-container-id-3 div.sk-label:hover label.sk-toggleable__label {background-color: #d4ebff;}#sk-container-id-3 div.sk-serial::before {content: \"\";position: absolute;border-left: 1px solid gray;box-sizing: border-box;top: 0;bottom: 0;left: 50%;z-index: 0;}#sk-container-id-3 div.sk-serial {display: flex;flex-direction: column;align-items: center;background-color: white;padding-right: 0.2em;padding-left: 0.2em;position: relative;}#sk-container-id-3 div.sk-item {position: relative;z-index: 1;}#sk-container-id-3 div.sk-parallel {display: flex;align-items: stretch;justify-content: center;background-color: white;position: relative;}#sk-container-id-3 div.sk-item::before, #sk-container-id-3 div.sk-parallel-item::before {content: \"\";position: absolute;border-left: 1px solid gray;box-sizing: border-box;top: 0;bottom: 0;left: 50%;z-index: -1;}#sk-container-id-3 div.sk-parallel-item {display: flex;flex-direction: column;z-index: 1;position: relative;background-color: white;}#sk-container-id-3 div.sk-parallel-item:first-child::after {align-self: flex-end;width: 50%;}#sk-container-id-3 div.sk-parallel-item:last-child::after {align-self: flex-start;width: 50%;}#sk-container-id-3 div.sk-parallel-item:only-child::after {width: 0;}#sk-container-id-3 div.sk-dashed-wrapped {border: 1px dashed gray;margin: 0 0.4em 0.5em 0.4em;box-sizing: border-box;padding-bottom: 0.4em;background-color: white;}#sk-container-id-3 div.sk-label label {font-family: monospace;font-weight: bold;display: inline-block;line-height: 1.2em;}#sk-container-id-3 div.sk-label-container {text-align: center;}#sk-container-id-3 div.sk-container {/* jupyter's `normalize.less` sets `[hidden] { display: none; }` but bootstrap.min.css set `[hidden] { display: none !important; }` so we also need the `!important` here to be able to override the default hidden behavior on the sphinx rendered scikit-learn.org. See: https://github.com/scikit-learn/scikit-learn/issues/21755 */display: inline-block !important;position: relative;}#sk-container-id-3 div.sk-text-repr-fallback {display: none;}</style><div id=\"sk-container-id-3\" class=\"sk-top-container\"><div class=\"sk-text-repr-fallback\"><pre>DecisionTreeClassifier(max_depth=3)</pre><b>In a Jupyter environment, please rerun this cell to show the HTML representation or trust the notebook. <br />On GitHub, the HTML representation is unable to render, please try loading this page with nbviewer.org.</b></div><div class=\"sk-container\" hidden><div class=\"sk-item\"><div class=\"sk-estimator sk-toggleable\"><input class=\"sk-toggleable__control sk-hidden--visually\" id=\"sk-estimator-id-3\" type=\"checkbox\" checked><label for=\"sk-estimator-id-3\" class=\"sk-toggleable__label sk-toggleable__label-arrow\">DecisionTreeClassifier</label><div class=\"sk-toggleable__content\"><pre>DecisionTreeClassifier(max_depth=3)</pre></div></div></div></div></div>"
            ]
          },
          "metadata": {},
          "execution_count": 54
        }
      ]
    },
    {
      "cell_type": "code",
      "source": [
        "y_train_pred1 = model1.predict(X1_train)\n",
        "train_accuracy_des = accuracy_score(Y1_train, y_train_pred1)\n",
        "print(f\"Training Accuracy: {train_accuracy_des * 100:.2f}%\")\n",
        "y_test_pred_des1 = model1.predict(X1_test)\n",
        "test_accuracy_des1 = accuracy_score(Y1_test, y_test_pred_des1)\n",
        "print(f\"Test Accuracy: {test_accuracy_des1 * 100:.2f}%\")"
      ],
      "metadata": {
        "colab": {
          "base_uri": "https://localhost:8080/"
        },
        "id": "gmc03aLo6eh-",
        "outputId": "3a59f9b3-6d77-4d46-855c-98d3776e578d"
      },
      "execution_count": null,
      "outputs": [
        {
          "output_type": "stream",
          "name": "stdout",
          "text": [
            "Training Accuracy: 87.24%\n",
            "Test Accuracy: 87.24%\n"
          ]
        }
      ]
    },
    {
      "cell_type": "code",
      "source": [
        "print(classification_report(Y1_test, y_test_pred_des1))"
      ],
      "metadata": {
        "colab": {
          "base_uri": "https://localhost:8080/"
        },
        "id": "nmSQTlJ35BEz",
        "outputId": "f1f7ca75-e3bb-4a1e-bb99-c7a551d88a8e"
      },
      "execution_count": null,
      "outputs": [
        {
          "output_type": "stream",
          "name": "stdout",
          "text": [
            "              precision    recall  f1-score   support\n",
            "\n",
            "           f       0.97      0.77      0.86      6574\n",
            "           r       0.81      0.97      0.88      6492\n",
            "\n",
            "    accuracy                           0.87     13066\n",
            "   macro avg       0.89      0.87      0.87     13066\n",
            "weighted avg       0.89      0.87      0.87     13066\n",
            "\n"
          ]
        }
      ]
    },
    {
      "cell_type": "markdown",
      "metadata": {
        "id": "XMGbrhg8D2Lx"
      },
      "source": [
        "#Decision tress for classification 2"
      ]
    },
    {
      "cell_type": "code",
      "execution_count": null,
      "metadata": {
        "id": "lB_j9iU-D8dK",
        "colab": {
          "base_uri": "https://localhost:8080/",
          "height": 93
        },
        "outputId": "3ba5dc7e-75cf-4eb8-e1c3-f457092b684a"
      },
      "outputs": [
        {
          "output_type": "stream",
          "name": "stdout",
          "text": [
            "Creating decision tree max_depth=3\n"
          ]
        },
        {
          "output_type": "execute_result",
          "data": {
            "text/plain": [
              "DecisionTreeClassifier(max_depth=3)"
            ],
            "text/html": [
              "<style>#sk-container-id-4 {color: black;background-color: white;}#sk-container-id-4 pre{padding: 0;}#sk-container-id-4 div.sk-toggleable {background-color: white;}#sk-container-id-4 label.sk-toggleable__label {cursor: pointer;display: block;width: 100%;margin-bottom: 0;padding: 0.3em;box-sizing: border-box;text-align: center;}#sk-container-id-4 label.sk-toggleable__label-arrow:before {content: \"▸\";float: left;margin-right: 0.25em;color: #696969;}#sk-container-id-4 label.sk-toggleable__label-arrow:hover:before {color: black;}#sk-container-id-4 div.sk-estimator:hover label.sk-toggleable__label-arrow:before {color: black;}#sk-container-id-4 div.sk-toggleable__content {max-height: 0;max-width: 0;overflow: hidden;text-align: left;background-color: #f0f8ff;}#sk-container-id-4 div.sk-toggleable__content pre {margin: 0.2em;color: black;border-radius: 0.25em;background-color: #f0f8ff;}#sk-container-id-4 input.sk-toggleable__control:checked~div.sk-toggleable__content {max-height: 200px;max-width: 100%;overflow: auto;}#sk-container-id-4 input.sk-toggleable__control:checked~label.sk-toggleable__label-arrow:before {content: \"▾\";}#sk-container-id-4 div.sk-estimator input.sk-toggleable__control:checked~label.sk-toggleable__label {background-color: #d4ebff;}#sk-container-id-4 div.sk-label input.sk-toggleable__control:checked~label.sk-toggleable__label {background-color: #d4ebff;}#sk-container-id-4 input.sk-hidden--visually {border: 0;clip: rect(1px 1px 1px 1px);clip: rect(1px, 1px, 1px, 1px);height: 1px;margin: -1px;overflow: hidden;padding: 0;position: absolute;width: 1px;}#sk-container-id-4 div.sk-estimator {font-family: monospace;background-color: #f0f8ff;border: 1px dotted black;border-radius: 0.25em;box-sizing: border-box;margin-bottom: 0.5em;}#sk-container-id-4 div.sk-estimator:hover {background-color: #d4ebff;}#sk-container-id-4 div.sk-parallel-item::after {content: \"\";width: 100%;border-bottom: 1px solid gray;flex-grow: 1;}#sk-container-id-4 div.sk-label:hover label.sk-toggleable__label {background-color: #d4ebff;}#sk-container-id-4 div.sk-serial::before {content: \"\";position: absolute;border-left: 1px solid gray;box-sizing: border-box;top: 0;bottom: 0;left: 50%;z-index: 0;}#sk-container-id-4 div.sk-serial {display: flex;flex-direction: column;align-items: center;background-color: white;padding-right: 0.2em;padding-left: 0.2em;position: relative;}#sk-container-id-4 div.sk-item {position: relative;z-index: 1;}#sk-container-id-4 div.sk-parallel {display: flex;align-items: stretch;justify-content: center;background-color: white;position: relative;}#sk-container-id-4 div.sk-item::before, #sk-container-id-4 div.sk-parallel-item::before {content: \"\";position: absolute;border-left: 1px solid gray;box-sizing: border-box;top: 0;bottom: 0;left: 50%;z-index: -1;}#sk-container-id-4 div.sk-parallel-item {display: flex;flex-direction: column;z-index: 1;position: relative;background-color: white;}#sk-container-id-4 div.sk-parallel-item:first-child::after {align-self: flex-end;width: 50%;}#sk-container-id-4 div.sk-parallel-item:last-child::after {align-self: flex-start;width: 50%;}#sk-container-id-4 div.sk-parallel-item:only-child::after {width: 0;}#sk-container-id-4 div.sk-dashed-wrapped {border: 1px dashed gray;margin: 0 0.4em 0.5em 0.4em;box-sizing: border-box;padding-bottom: 0.4em;background-color: white;}#sk-container-id-4 div.sk-label label {font-family: monospace;font-weight: bold;display: inline-block;line-height: 1.2em;}#sk-container-id-4 div.sk-label-container {text-align: center;}#sk-container-id-4 div.sk-container {/* jupyter's `normalize.less` sets `[hidden] { display: none; }` but bootstrap.min.css set `[hidden] { display: none !important; }` so we also need the `!important` here to be able to override the default hidden behavior on the sphinx rendered scikit-learn.org. See: https://github.com/scikit-learn/scikit-learn/issues/21755 */display: inline-block !important;position: relative;}#sk-container-id-4 div.sk-text-repr-fallback {display: none;}</style><div id=\"sk-container-id-4\" class=\"sk-top-container\"><div class=\"sk-text-repr-fallback\"><pre>DecisionTreeClassifier(max_depth=3)</pre><b>In a Jupyter environment, please rerun this cell to show the HTML representation or trust the notebook. <br />On GitHub, the HTML representation is unable to render, please try loading this page with nbviewer.org.</b></div><div class=\"sk-container\" hidden><div class=\"sk-item\"><div class=\"sk-estimator sk-toggleable\"><input class=\"sk-toggleable__control sk-hidden--visually\" id=\"sk-estimator-id-4\" type=\"checkbox\" checked><label for=\"sk-estimator-id-4\" class=\"sk-toggleable__label sk-toggleable__label-arrow\">DecisionTreeClassifier</label><div class=\"sk-toggleable__content\"><pre>DecisionTreeClassifier(max_depth=3)</pre></div></div></div></div></div>"
            ]
          },
          "metadata": {},
          "execution_count": 56
        }
      ],
      "source": [
        "md = 3\n",
        "print(\"Creating decision tree max_depth=\" + str(md))\n",
        "model2 = tree.DecisionTreeClassifier(max_depth=md)\n",
        "model2.fit(X2_train, Y2_train)"
      ]
    },
    {
      "cell_type": "code",
      "source": [
        "y_train_pred = model2.predict(X2_train)\n",
        "train_accuracy_des = accuracy_score(Y2_train, y_train_pred)\n",
        "print(f\"Training Accuracy: {train_accuracy_des * 100:.2f}%\")\n",
        "y_test_pred_des = model2.predict(X2_test)\n",
        "test_accuracy_des = accuracy_score(Y2_test, y_test_pred_des)\n",
        "print(f\"Test Accuracy: {test_accuracy_des * 100:.2f}%\")"
      ],
      "metadata": {
        "colab": {
          "base_uri": "https://localhost:8080/"
        },
        "id": "Rl-0jRtj5bqO",
        "outputId": "7346edd7-cbee-43a5-cf9c-dc0b629d15d3"
      },
      "execution_count": null,
      "outputs": [
        {
          "output_type": "stream",
          "name": "stdout",
          "text": [
            "Training Accuracy: 73.02%\n",
            "Test Accuracy: 72.22%\n"
          ]
        }
      ]
    },
    {
      "cell_type": "code",
      "source": [
        "print(classification_report(Y2_test, y_test_pred_des))"
      ],
      "metadata": {
        "colab": {
          "base_uri": "https://localhost:8080/"
        },
        "id": "BMAxfRkw7CFu",
        "outputId": "f1b699db-0052-45fc-eb1b-8bbc435b12cc"
      },
      "execution_count": null,
      "outputs": [
        {
          "output_type": "stream",
          "name": "stdout",
          "text": [
            "              precision    recall  f1-score   support\n",
            "\n",
            "           a       0.72      0.75      0.73      2411\n",
            "           i       0.72      0.98      0.83      2110\n",
            "           r       0.63      0.45      0.52      2088\n",
            "           s       0.80      0.71      0.75      2053\n",
            "\n",
            "    accuracy                           0.72      8662\n",
            "   macro avg       0.72      0.72      0.71      8662\n",
            "weighted avg       0.72      0.72      0.71      8662\n",
            "\n"
          ]
        }
      ]
    }
  ],
  "metadata": {
    "colab": {
      "provenance": [],
      "include_colab_link": true
    },
    "kernelspec": {
      "display_name": "Python 3",
      "name": "python3"
    },
    "language_info": {
      "name": "python"
    }
  },
  "nbformat": 4,
  "nbformat_minor": 0
}